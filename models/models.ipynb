{
 "cells": [
  {
   "cell_type": "code",
   "execution_count": 1,
   "metadata": {},
   "outputs": [],
   "source": [
    "# imports\n",
    "import pandas as pd\n",
    "import seaborn as sns\n",
    "import matplotlib.pyplot as plt\n",
    "from sklearn.ensemble import RandomForestClassifier\n",
    "from sklearn import svm\n",
    "from sklearn.linear_model import SGDClassifier\n",
    "from sklearn.metrics import confusion_matrix, classification_report, accuracy_score\n",
    "from sklearn.neural_network import MLPClassifier\n",
    "from sklearn.preprocessing import StandardScaler, LabelEncoder\n",
    "from sklearn.model_selection import train_test_split\n",
    "%matplotlib inline"
   ]
  },
  {
   "cell_type": "code",
   "execution_count": 2,
   "metadata": {},
   "outputs": [
    {
     "data": {
      "text/html": [
       "<div>\n",
       "<style scoped>\n",
       "    .dataframe tbody tr th:only-of-type {\n",
       "        vertical-align: middle;\n",
       "    }\n",
       "\n",
       "    .dataframe tbody tr th {\n",
       "        vertical-align: top;\n",
       "    }\n",
       "\n",
       "    .dataframe thead th {\n",
       "        text-align: right;\n",
       "    }\n",
       "</style>\n",
       "<table border=\"1\" class=\"dataframe\">\n",
       "  <thead>\n",
       "    <tr style=\"text-align: right;\">\n",
       "      <th></th>\n",
       "      <th>city</th>\n",
       "      <th>street</th>\n",
       "      <th>product_name</th>\n",
       "      <th>category_path</th>\n",
       "      <th>price</th>\n",
       "      <th>delivery_company</th>\n",
       "      <th>delivery_time</th>\n",
       "      <th>week_day</th>\n",
       "      <th>purchase_week_day_plus_hour</th>\n",
       "    </tr>\n",
       "  </thead>\n",
       "  <tbody>\n",
       "    <tr>\n",
       "      <th>0</th>\n",
       "      <td>Radom</td>\n",
       "      <td>ul. Bukowa 64</td>\n",
       "      <td>Plantronics Savi W710</td>\n",
       "      <td>Sprzęt RTV</td>\n",
       "      <td>553</td>\n",
       "      <td>360</td>\n",
       "      <td>2</td>\n",
       "      <td>0</td>\n",
       "      <td>14</td>\n",
       "    </tr>\n",
       "    <tr>\n",
       "      <th>1</th>\n",
       "      <td>Radom</td>\n",
       "      <td>ul. Bukowa 64</td>\n",
       "      <td>Plantronics Savi W710</td>\n",
       "      <td>Sprzęt RTV</td>\n",
       "      <td>553</td>\n",
       "      <td>620</td>\n",
       "      <td>3</td>\n",
       "      <td>4</td>\n",
       "      <td>109</td>\n",
       "    </tr>\n",
       "    <tr>\n",
       "      <th>2</th>\n",
       "      <td>Gdynia</td>\n",
       "      <td>ul. Bałtycka 29</td>\n",
       "      <td>Plantronics Savi W710</td>\n",
       "      <td>Sprzęt RTV</td>\n",
       "      <td>553</td>\n",
       "      <td>620</td>\n",
       "      <td>1</td>\n",
       "      <td>0</td>\n",
       "      <td>3</td>\n",
       "    </tr>\n",
       "    <tr>\n",
       "      <th>3</th>\n",
       "      <td>Gdynia</td>\n",
       "      <td>ul. Bałtycka 29</td>\n",
       "      <td>Plantronics Savi W710</td>\n",
       "      <td>Sprzęt RTV</td>\n",
       "      <td>553</td>\n",
       "      <td>360</td>\n",
       "      <td>3</td>\n",
       "      <td>4</td>\n",
       "      <td>113</td>\n",
       "    </tr>\n",
       "    <tr>\n",
       "      <th>4</th>\n",
       "      <td>Gdynia</td>\n",
       "      <td>ul. Bałtycka 29</td>\n",
       "      <td>Plantronics Savi W710</td>\n",
       "      <td>Sprzęt RTV</td>\n",
       "      <td>553</td>\n",
       "      <td>360</td>\n",
       "      <td>3</td>\n",
       "      <td>0</td>\n",
       "      <td>3</td>\n",
       "    </tr>\n",
       "  </tbody>\n",
       "</table>\n",
       "</div>"
      ],
      "text/plain": [
       "     city           street           product_name category_path  price  \\\n",
       "0   Radom    ul. Bukowa 64  Plantronics Savi W710    Sprzęt RTV    553   \n",
       "1   Radom    ul. Bukowa 64  Plantronics Savi W710    Sprzęt RTV    553   \n",
       "2  Gdynia  ul. Bałtycka 29  Plantronics Savi W710    Sprzęt RTV    553   \n",
       "3  Gdynia  ul. Bałtycka 29  Plantronics Savi W710    Sprzęt RTV    553   \n",
       "4  Gdynia  ul. Bałtycka 29  Plantronics Savi W710    Sprzęt RTV    553   \n",
       "\n",
       "   delivery_company  delivery_time  week_day  purchase_week_day_plus_hour  \n",
       "0               360              2         0                           14  \n",
       "1               620              3         4                          109  \n",
       "2               620              1         0                            3  \n",
       "3               360              3         4                          113  \n",
       "4               360              3         0                            3  "
      ]
     },
     "execution_count": 2,
     "metadata": {},
     "output_type": "execute_result"
    }
   ],
   "source": [
    "# loading data\n",
    "clearedDF = '..\\data\\processed\\casted_clearedDF.jsonl'\n",
    "data = pd.read_json(clearedDF, lines = True)\n",
    "data = data.drop(columns=[\"session_id\", \"user_id\", \"purchase_timestamp\", \"delivery_timestamp\"])\n",
    "#data = data.drop(columns=[\"product_name\", \"price\", \"category_path\", \"week_day\"])\n",
    "data.head()"
   ]
  },
  {
   "cell_type": "code",
   "execution_count": 3,
   "metadata": {},
   "outputs": [],
   "source": [
    "# converting strings to integers\n",
    "label_city = LabelEncoder()\n",
    "data['city'] = label_city.fit_transform(data['city'])\n",
    "label_street = LabelEncoder()\n",
    "data['street'] = label_street.fit_transform(data['street'])\n",
    "label_product_name = LabelEncoder()\n",
    "data['product_name'] = label_product_name.fit_transform(data['product_name'])\n",
    "label_category_path = LabelEncoder()\n",
    "data['category_path'] = label_category_path.fit_transform(data['category_path'])"
   ]
  },
  {
   "cell_type": "code",
   "execution_count": 4,
   "metadata": {},
   "outputs": [
    {
     "data": {
      "text/html": [
       "<div>\n",
       "<style scoped>\n",
       "    .dataframe tbody tr th:only-of-type {\n",
       "        vertical-align: middle;\n",
       "    }\n",
       "\n",
       "    .dataframe tbody tr th {\n",
       "        vertical-align: top;\n",
       "    }\n",
       "\n",
       "    .dataframe thead th {\n",
       "        text-align: right;\n",
       "    }\n",
       "</style>\n",
       "<table border=\"1\" class=\"dataframe\">\n",
       "  <thead>\n",
       "    <tr style=\"text-align: right;\">\n",
       "      <th></th>\n",
       "      <th>city</th>\n",
       "      <th>street</th>\n",
       "      <th>product_name</th>\n",
       "      <th>category_path</th>\n",
       "      <th>price</th>\n",
       "      <th>delivery_company</th>\n",
       "      <th>delivery_time</th>\n",
       "      <th>week_day</th>\n",
       "      <th>purchase_week_day_plus_hour</th>\n",
       "    </tr>\n",
       "  </thead>\n",
       "  <tbody>\n",
       "    <tr>\n",
       "      <th>0</th>\n",
       "      <td>3</td>\n",
       "      <td>139</td>\n",
       "      <td>66</td>\n",
       "      <td>3</td>\n",
       "      <td>553</td>\n",
       "      <td>360</td>\n",
       "      <td>2</td>\n",
       "      <td>0</td>\n",
       "      <td>14</td>\n",
       "    </tr>\n",
       "    <tr>\n",
       "      <th>1</th>\n",
       "      <td>3</td>\n",
       "      <td>139</td>\n",
       "      <td>66</td>\n",
       "      <td>3</td>\n",
       "      <td>553</td>\n",
       "      <td>620</td>\n",
       "      <td>3</td>\n",
       "      <td>4</td>\n",
       "      <td>109</td>\n",
       "    </tr>\n",
       "    <tr>\n",
       "      <th>2</th>\n",
       "      <td>0</td>\n",
       "      <td>136</td>\n",
       "      <td>66</td>\n",
       "      <td>3</td>\n",
       "      <td>553</td>\n",
       "      <td>620</td>\n",
       "      <td>1</td>\n",
       "      <td>0</td>\n",
       "      <td>3</td>\n",
       "    </tr>\n",
       "    <tr>\n",
       "      <th>3</th>\n",
       "      <td>0</td>\n",
       "      <td>136</td>\n",
       "      <td>66</td>\n",
       "      <td>3</td>\n",
       "      <td>553</td>\n",
       "      <td>360</td>\n",
       "      <td>3</td>\n",
       "      <td>4</td>\n",
       "      <td>113</td>\n",
       "    </tr>\n",
       "    <tr>\n",
       "      <th>4</th>\n",
       "      <td>0</td>\n",
       "      <td>136</td>\n",
       "      <td>66</td>\n",
       "      <td>3</td>\n",
       "      <td>553</td>\n",
       "      <td>360</td>\n",
       "      <td>3</td>\n",
       "      <td>0</td>\n",
       "      <td>3</td>\n",
       "    </tr>\n",
       "  </tbody>\n",
       "</table>\n",
       "</div>"
      ],
      "text/plain": [
       "   city  street  product_name  category_path  price  delivery_company  \\\n",
       "0     3     139            66              3    553               360   \n",
       "1     3     139            66              3    553               620   \n",
       "2     0     136            66              3    553               620   \n",
       "3     0     136            66              3    553               360   \n",
       "4     0     136            66              3    553               360   \n",
       "\n",
       "   delivery_time  week_day  purchase_week_day_plus_hour  \n",
       "0              2         0                           14  \n",
       "1              3         4                          109  \n",
       "2              1         0                            3  \n",
       "3              3         4                          113  \n",
       "4              3         0                            3  "
      ]
     },
     "execution_count": 4,
     "metadata": {},
     "output_type": "execute_result"
    }
   ],
   "source": [
    "# extract label from data\n",
    "X = data.drop(columns=[\"delivery_time\"])\n",
    "y = data[\"delivery_time\"]\n",
    "data.head()"
   ]
  },
  {
   "cell_type": "code",
   "execution_count": 5,
   "metadata": {},
   "outputs": [],
   "source": [
    "# dividing data to train and test sets\n",
    "X_train, X_test, y_train, y_test = train_test_split(X, y, test_size = 0.2, random_state = 0)"
   ]
  },
  {
   "cell_type": "code",
   "execution_count": 6,
   "metadata": {},
   "outputs": [],
   "source": [
    "# scaling data\n",
    "sc = StandardScaler()\n",
    "X_train = sc.fit_transform(X_train)\n",
    "X_test = sc.transform(X_test)"
   ]
  },
  {
   "cell_type": "code",
   "execution_count": 7,
   "metadata": {},
   "outputs": [],
   "source": [
    "# random forest classifier\n",
    "rfc = RandomForestClassifier(n_estimators=128)\n",
    "rfc.fit(X_train, y_train)\n",
    "pred_rfc = rfc.predict(X_test)"
   ]
  },
  {
   "cell_type": "code",
   "execution_count": 8,
   "metadata": {},
   "outputs": [
    {
     "name": "stdout",
     "output_type": "stream",
     "text": [
      "              precision    recall  f1-score   support\n",
      "\n",
      "           1       0.19      0.05      0.08        81\n",
      "           2       0.70      0.75      0.72       443\n",
      "           3       0.77      0.87      0.81       692\n",
      "           4       0.73      0.50      0.59       182\n",
      "           5       0.00      0.00      0.00         9\n",
      "\n",
      "    accuracy                           0.73      1407\n",
      "   macro avg       0.48      0.43      0.44      1407\n",
      "weighted avg       0.70      0.73      0.71      1407\n",
      "\n",
      "[[  4  67  10   0   0]\n",
      " [ 15 331  86  11   0]\n",
      " [  2  68 601  19   2]\n",
      " [  0  10  81  91   0]\n",
      " [  0   0   6   3   0]]\n"
     ]
    }
   ],
   "source": [
    "print(classification_report(y_test, pred_rfc))\n",
    "print(confusion_matrix(y_test, pred_rfc))"
   ]
  },
  {
   "cell_type": "code",
   "execution_count": 9,
   "metadata": {},
   "outputs": [],
   "source": [
    "# svm classifier\n",
    "svmc = svm.SVC(C=158, gamma=0.11)\n",
    "svmc.fit(X_train, y_train)\n",
    "pred_svmc = svmc.predict(X_test)\n"
   ]
  },
  {
   "cell_type": "code",
   "execution_count": 10,
   "metadata": {},
   "outputs": [
    {
     "name": "stdout",
     "output_type": "stream",
     "text": [
      "              precision    recall  f1-score   support\n",
      "\n",
      "           1       0.22      0.10      0.14        81\n",
      "           2       0.57      0.65      0.61       443\n",
      "           3       0.68      0.72      0.70       692\n",
      "           4       0.50      0.35      0.41       182\n",
      "           5       0.20      0.11      0.14         9\n",
      "\n",
      "    accuracy                           0.61      1407\n",
      "   macro avg       0.43      0.39      0.40      1407\n",
      "weighted avg       0.59      0.61      0.60      1407\n",
      "\n",
      "[[  8  58  14   1   0]\n",
      " [ 22 286 119  14   2]\n",
      " [  5 140 500  45   2]\n",
      " [  2  18  98  64   0]\n",
      " [  0   0   3   5   1]]\n"
     ]
    }
   ],
   "source": [
    "print(classification_report(y_test, pred_svmc))\n",
    "print(confusion_matrix(y_test, pred_svmc))"
   ]
  },
  {
   "cell_type": "code",
   "execution_count": 11,
   "metadata": {},
   "outputs": [],
   "source": [
    "mlpc = MLPClassifier(max_iter=1024)\n",
    "mlpc.fit(X_train, y_train)\n",
    "pred_mlpc = mlpc.predict(X_test)"
   ]
  },
  {
   "cell_type": "code",
   "execution_count": 12,
   "metadata": {},
   "outputs": [
    {
     "name": "stdout",
     "output_type": "stream",
     "text": [
      "              precision    recall  f1-score   support\n",
      "\n",
      "           1       0.21      0.09      0.12        81\n",
      "           2       0.68      0.70      0.69       443\n",
      "           3       0.76      0.86      0.81       692\n",
      "           4       0.74      0.47      0.58       182\n",
      "           5       0.60      0.33      0.43         9\n",
      "\n",
      "    accuracy                           0.71      1407\n",
      "   macro avg       0.60      0.49      0.52      1407\n",
      "weighted avg       0.70      0.71      0.70      1407\n",
      "\n",
      "[[  7  65   9   0   0]\n",
      " [ 24 312  95  12   0]\n",
      " [  3  74 597  16   2]\n",
      " [  0  11  85  86   0]\n",
      " [  0   0   4   2   3]]\n"
     ]
    }
   ],
   "source": [
    "print(classification_report(y_test, pred_mlpc))\n",
    "print(confusion_matrix(y_test, pred_mlpc))"
   ]
  }
 ],
 "metadata": {
  "interpreter": {
   "hash": "b81249c273ff775c7965683a350ef62c8b681490c467624ce35254886e93f2b9"
  },
  "kernelspec": {
   "display_name": "Python 3.10.0 64-bit",
   "language": "python",
   "name": "python3"
  },
  "language_info": {
   "codemirror_mode": {
    "name": "ipython",
    "version": 3
   },
   "file_extension": ".py",
   "mimetype": "text/x-python",
   "name": "python",
   "nbconvert_exporter": "python",
   "pygments_lexer": "ipython3",
   "version": "3.10.0"
  },
  "orig_nbformat": 4
 },
 "nbformat": 4,
 "nbformat_minor": 2
}
