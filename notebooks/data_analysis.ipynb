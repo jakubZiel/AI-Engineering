{
 "cells": [
  {
   "cell_type": "markdown",
   "metadata": {},
   "source": [
    "Inicializacja środowiska."
   ]
  },
  {
   "cell_type": "code",
   "execution_count": 113,
   "metadata": {},
   "outputs": [],
   "source": [
    "import pandas as pd\n",
    "import matplotlib.pyplot as plt\n",
    "import seaborn as sbn\n",
    "\n",
    "pd.set_option('display.max_rows', None)\n",
    "pd.set_option('display.max_columns', None)\n",
    "pd.set_option('max_colwidth', None)\n",
    "\n",
    "userDataPath = '../data/raw/users.jsonl'\n",
    "productDataPath = '../data/raw/products.jsonl'\n",
    "purchaseDataPath = '../data/raw/purchases.jsonl'\n",
    "\n",
    "usersDF = pd.read_json(userDataPath, lines = True)\n",
    "productsDF = pd.read_json(productDataPath, lines = True)\n",
    "purchasesDF = pd.read_json(purchaseDataPath, lines = True)\n"
   ]
  },
  {
   "cell_type": "markdown",
   "metadata": {},
   "source": [
    "## Analiza produktów"
   ]
  },
  {
   "cell_type": "code",
   "execution_count": 114,
   "metadata": {},
   "outputs": [
    {
     "data": {
      "text/html": [
       "<div>\n",
       "<style scoped>\n",
       "    .dataframe tbody tr th:only-of-type {\n",
       "        vertical-align: middle;\n",
       "    }\n",
       "\n",
       "    .dataframe tbody tr th {\n",
       "        vertical-align: top;\n",
       "    }\n",
       "\n",
       "    .dataframe thead th {\n",
       "        text-align: right;\n",
       "    }\n",
       "</style>\n",
       "<table border=\"1\" class=\"dataframe\">\n",
       "  <thead>\n",
       "    <tr style=\"text-align: right;\">\n",
       "      <th></th>\n",
       "      <th>product_id</th>\n",
       "      <th>product_name</th>\n",
       "      <th>category_path</th>\n",
       "      <th>price</th>\n",
       "    </tr>\n",
       "  </thead>\n",
       "  <tbody>\n",
       "    <tr>\n",
       "      <th>0</th>\n",
       "      <td>1001</td>\n",
       "      <td>Telefon Siemens Gigaset DA310</td>\n",
       "      <td>Telefony i akcesoria;Telefony stacjonarne</td>\n",
       "      <td>58.97</td>\n",
       "    </tr>\n",
       "    <tr>\n",
       "      <th>1</th>\n",
       "      <td>1002</td>\n",
       "      <td>Kyocera FS-1135MFP</td>\n",
       "      <td>Komputery;Drukarki i skanery;Biurowe urządzenia wielofunkcyjne</td>\n",
       "      <td>2048.50</td>\n",
       "    </tr>\n",
       "    <tr>\n",
       "      <th>2</th>\n",
       "      <td>1003</td>\n",
       "      <td>Kyocera FS-3640MFP</td>\n",
       "      <td>Komputery;Drukarki i skanery;Biurowe urządzenia wielofunkcyjne</td>\n",
       "      <td>7639.00</td>\n",
       "    </tr>\n",
       "    <tr>\n",
       "      <th>3</th>\n",
       "      <td>1004</td>\n",
       "      <td>Fallout 3 (Xbox 360)</td>\n",
       "      <td>Gry i konsole;Gry na konsole;Gry Xbox 360</td>\n",
       "      <td>49.99</td>\n",
       "    </tr>\n",
       "    <tr>\n",
       "      <th>4</th>\n",
       "      <td>1005</td>\n",
       "      <td>Szalone Króliki Na żywo i w kolorze (Xbox 360)</td>\n",
       "      <td>Gry i konsole;Gry na konsole;Gry Xbox 360</td>\n",
       "      <td>49.99</td>\n",
       "    </tr>\n",
       "  </tbody>\n",
       "</table>\n",
       "</div>"
      ],
      "text/plain": [
       "   product_id                                    product_name  \\\n",
       "0        1001                   Telefon Siemens Gigaset DA310   \n",
       "1        1002                              Kyocera FS-1135MFP   \n",
       "2        1003                              Kyocera FS-3640MFP   \n",
       "3        1004                            Fallout 3 (Xbox 360)   \n",
       "4        1005  Szalone Króliki Na żywo i w kolorze (Xbox 360)   \n",
       "\n",
       "                                                    category_path    price  \n",
       "0                       Telefony i akcesoria;Telefony stacjonarne    58.97  \n",
       "1  Komputery;Drukarki i skanery;Biurowe urządzenia wielofunkcyjne  2048.50  \n",
       "2  Komputery;Drukarki i skanery;Biurowe urządzenia wielofunkcyjne  7639.00  \n",
       "3                       Gry i konsole;Gry na konsole;Gry Xbox 360    49.99  \n",
       "4                       Gry i konsole;Gry na konsole;Gry Xbox 360    49.99  "
      ]
     },
     "execution_count": 114,
     "metadata": {},
     "output_type": "execute_result"
    }
   ],
   "source": [
    "productsDF.head(n=5)"
   ]
  },
  {
   "cell_type": "markdown",
   "metadata": {},
   "source": [
    "Wyróżniamy product_id, product_name, category_path oraz price.\n",
    "Szczególnie powinniśmy się przyjrzeć polu **category_path**.\n",
    "Reprezentuje hierarchiczną strukturę kategorii. Patrząc od lewej do prawej, mamy najogólniejsze zkategoryzowanie kończąc na najbardziej szczegółowym. "
   ]
  },
  {
   "cell_type": "code",
   "execution_count": 115,
   "metadata": {},
   "outputs": [
    {
     "name": "stdout",
     "output_type": "stream",
     "text": [
      "<class 'pandas.core.frame.DataFrame'>\n",
      "RangeIndex: 319 entries, 0 to 318\n",
      "Data columns (total 4 columns):\n",
      " #   Column         Non-Null Count  Dtype  \n",
      "---  ------         --------------  -----  \n",
      " 0   product_id     319 non-null    int64  \n",
      " 1   product_name   319 non-null    object \n",
      " 2   category_path  319 non-null    object \n",
      " 3   price          319 non-null    float64\n",
      "dtypes: float64(1), int64(1), object(2)\n",
      "memory usage: 10.1+ KB\n"
     ]
    }
   ],
   "source": [
    "productsDF.info()"
   ]
  },
  {
   "cell_type": "markdown",
   "metadata": {},
   "source": [
    "Widzimy, że w żadnym atrybucie nie ma pustych pól, możemy o tym wnioskować z faktu, że ilość rekordów (319 : entries)  jest równa każdej z wartości w kolumnie non-null count."
   ]
  },
  {
   "cell_type": "markdown",
   "metadata": {},
   "source": [
    "Analiza **product_id**"
   ]
  },
  {
   "cell_type": "code",
   "execution_count": 116,
   "metadata": {},
   "outputs": [
    {
     "name": "stdout",
     "output_type": "stream",
     "text": [
      "max id : 1319\n",
      "min id : 1001\n",
      "unique ids : 319/319\n"
     ]
    }
   ],
   "source": [
    "print('max id : {}'.format(productsDF['product_id'].max()))\n",
    "print('min id : {}'.format(productsDF['product_id'].min()))\n",
    "print('unique ids : {}/{}'.format(productsDF['product_id'].nunique(), productsDF['product_id'].size))"
   ]
  },
  {
   "cell_type": "markdown",
   "metadata": {},
   "source": [
    "**product_id** jest z liczbą całkowitą z przedziału [1001 - 1319].\n",
    "Widzimy również, że wszystkie id są unikalne, więc nie będziemy mieć problemu z niejdnoznacznością w przyadku produktów."
   ]
  },
  {
   "cell_type": "markdown",
   "metadata": {},
   "source": [
    "Analiza **product_name**"
   ]
  },
  {
   "cell_type": "code",
   "execution_count": 117,
   "metadata": {},
   "outputs": [
    {
     "name": "stdout",
     "output_type": "stream",
     "text": [
      "unique names : 319/319\n"
     ]
    }
   ],
   "source": [
    "print('unique names : {}/{}'.format(productsDF['product_name'].nunique(), productsDF['product_name'].size))"
   ]
  },
  {
   "cell_type": "markdown",
   "metadata": {},
   "source": [
    "Wszystkie nazwy produktów są unikatowe."
   ]
  },
  {
   "cell_type": "markdown",
   "metadata": {},
   "source": [
    "Analiza **category_path**"
   ]
  },
  {
   "cell_type": "code",
   "execution_count": 118,
   "metadata": {},
   "outputs": [
    {
     "name": "stdout",
     "output_type": "stream",
     "text": [
      "                                    Gry i konsole;Gry komputerowe\n",
      "                    Gry i konsole;Gry na konsole;Gry PlayStation3\n",
      "                        Gry i konsole;Gry na konsole;Gry Xbox 360\n",
      "   Komputery;Drukarki i skanery;Biurowe urządzenia wielofunkcyjne\n",
      "                                  Komputery;Monitory;Monitory LCD\n",
      "                            Komputery;Tablety i akcesoria;Tablety\n",
      "                                       Sprzęt RTV;Audio;Słuchawki\n",
      "         Sprzęt RTV;Przenośne audio i video;Odtwarzacze mp3 i mp4\n",
      "                                 Sprzęt RTV;Video;Odtwarzacze DVD\n",
      "               Sprzęt RTV;Video;Telewizory i akcesoria;Anteny RTV\n",
      "               Sprzęt RTV;Video;Telewizory i akcesoria;Okulary 3D\n",
      "Telefony i akcesoria;Akcesoria telefoniczne;Zestawy głośnomówiące\n",
      "  Telefony i akcesoria;Akcesoria telefoniczne;Zestawy słuchawkowe\n",
      "                          Telefony i akcesoria;Telefony komórkowe\n",
      "                        Telefony i akcesoria;Telefony stacjonarne\n"
     ]
    }
   ],
   "source": [
    "print(\n",
    "    productsDF['category_path']\n",
    "        .drop_duplicates()\n",
    "        .sort_values()\n",
    "        .to_string(index=False)\n",
    ") "
   ]
  },
  {
   "cell_type": "markdown",
   "metadata": {},
   "source": [
    "Zbiór wszystkich unikalnych kategoryzacji występujących w naszych danych. Wartos sprawdzić jak wygląda liczność każdej z kategorii."
   ]
  },
  {
   "cell_type": "code",
   "execution_count": 119,
   "metadata": {},
   "outputs": [
    {
     "data": {
      "text/plain": [
       "category_path\n",
       "Sprzęt RTV;Audio;Słuchawki                                             1\n",
       "Sprzęt RTV;Video;Telewizory i akcesoria;Okulary 3D                     1\n",
       "Telefony i akcesoria;Telefony stacjonarne                              1\n",
       "Komputery;Tablety i akcesoria;Tablety                                  2\n",
       "Sprzęt RTV;Przenośne audio i video;Odtwarzacze mp3 i mp4               2\n",
       "Sprzęt RTV;Video;Odtwarzacze DVD                                       2\n",
       "Telefony i akcesoria;Telefony komórkowe                                2\n",
       "Telefony i akcesoria;Akcesoria telefoniczne;Zestawy słuchawkowe        4\n",
       "Telefony i akcesoria;Akcesoria telefoniczne;Zestawy głośnomówiące      5\n",
       "Gry i konsole;Gry na konsole;Gry PlayStation3                          9\n",
       "Komputery;Drukarki i skanery;Biurowe urządzenia wielofunkcyjne         9\n",
       "Komputery;Monitory;Monitory LCD                                       17\n",
       "Sprzęt RTV;Video;Telewizory i akcesoria;Anteny RTV                    30\n",
       "Gry i konsole;Gry na konsole;Gry Xbox 360                             32\n",
       "Gry i konsole;Gry komputerowe                                        202\n",
       "Name: product_id, dtype: int64"
      ]
     },
     "execution_count": 119,
     "metadata": {},
     "output_type": "execute_result"
    }
   ],
   "source": [
    "productsDF.groupby('category_path')['product_id'].count().sort_values()"
   ]
  },
  {
   "cell_type": "markdown",
   "metadata": {},
   "source": [
    "Widzimy, że bardzo liczną grupą jest **'Gry i konsole;Gry komputerowe**. Nie jesteśmy w stanie podzielić jej na mniejsze, ale możemy spróbować scalić grupy o wspónych 'prefikasch'."
   ]
  },
  {
   "cell_type": "code",
   "execution_count": 120,
   "metadata": {},
   "outputs": [
    {
     "data": {
      "text/plain": [
       "0                                         Gry i konsole;Gry komputerowe\n",
       "1                         Gry i konsole;Gry na konsole;Gry PlayStation3\n",
       "2                             Gry i konsole;Gry na konsole;Gry Xbox 360\n",
       "3        Komputery;Drukarki i skanery;Biurowe urządzenia wielofunkcyjne\n",
       "4                                       Komputery;Monitory;Monitory LCD\n",
       "5                                 Komputery;Tablety i akcesoria;Tablety\n",
       "6                                            Sprzęt RTV;Audio;Słuchawki\n",
       "7              Sprzęt RTV;Przenośne audio i video;Odtwarzacze mp3 i mp4\n",
       "8                                      Sprzęt RTV;Video;Odtwarzacze DVD\n",
       "9                    Sprzęt RTV;Video;Telewizory i akcesoria;Anteny RTV\n",
       "10                   Sprzęt RTV;Video;Telewizory i akcesoria;Okulary 3D\n",
       "11    Telefony i akcesoria;Akcesoria telefoniczne;Zestawy głośnomówiące\n",
       "12      Telefony i akcesoria;Akcesoria telefoniczne;Zestawy słuchawkowe\n",
       "13                              Telefony i akcesoria;Telefony komórkowe\n",
       "14                            Telefony i akcesoria;Telefony stacjonarne\n",
       "Name: category_path, dtype: object"
      ]
     },
     "execution_count": 120,
     "metadata": {},
     "output_type": "execute_result"
    }
   ],
   "source": [
    "productsDF['category_path'].drop_duplicates().sort_values(ignore_index=True)"
   ]
  },
  {
   "cell_type": "markdown",
   "metadata": {},
   "source": [
    "Łatwiej będzie nam zrzutować posortowane kategorie.\n",
    "\n",
    "Sensownym było by wyróżnić 5 categorii o następujących licznościach:\n",
    "- 'Gry komputerowe' : 202 \n",
    "- 'Gry na konsole' : 41\n",
    "- 'Sprzęt RTV' : 36\n",
    "- 'Komputery' : 28\n",
    "- 'Telefony i akcesoria' :  12"
   ]
  },
  {
   "cell_type": "code",
   "execution_count": 121,
   "metadata": {},
   "outputs": [
    {
     "data": {
      "text/plain": [
       "Gry komputerowe         202\n",
       "Gry na konsole           41\n",
       "Sprzęt RTV               36\n",
       "Komputery                28\n",
       "Telefony i akcesoria     12\n",
       "Name: category_path, dtype: int64"
      ]
     },
     "execution_count": 121,
     "metadata": {},
     "output_type": "execute_result"
    }
   ],
   "source": [
    "groups = [\n",
    "    'Gry komputerowe',\n",
    "    'Gry na konsole', \n",
    "    'Sprzęt RTV', \n",
    "    'Komputery', \n",
    "    'Telefony i akcesoria'\n",
    "    ]\n",
    "\n",
    "def castCategory(category_path):\n",
    "    categories = category_path.split(';')\n",
    "    casts = [sub_category for sub_category in categories if sub_category in groups]\n",
    "    if (len(casts) != 1):\n",
    "        raise RuntimeError('number of casts should be 1 but is : {}'.format(casts))\n",
    "    return casts[0]\n",
    "\n",
    "productsDF_processed = productsDF['category_path'].apply(castCategory)\n",
    "productsDF_processed.value_counts()"
   ]
  },
  {
   "cell_type": "markdown",
   "metadata": {},
   "source": []
  },
  {
   "cell_type": "markdown",
   "metadata": {},
   "source": [
    "Wynik rzutowania zgadza zgadza się z naszymi wstępnymi szacunkami."
   ]
  },
  {
   "cell_type": "markdown",
   "metadata": {},
   "source": [
    "Analiza **price**"
   ]
  },
  {
   "cell_type": "code",
   "execution_count": 122,
   "metadata": {},
   "outputs": [
    {
     "name": "stdout",
     "output_type": "stream",
     "text": [
      "max price : 7639.0\n",
      "max price : 1.0\n",
      "mean price : 247.78796238244504\n",
      "median price : 41.0\n"
     ]
    },
    {
     "data": {
      "text/plain": [
       "<seaborn.axisgrid.FacetGrid at 0x7f6061810520>"
      ]
     },
     "execution_count": 122,
     "metadata": {},
     "output_type": "execute_result"
    },
    {
     "data": {
      "image/png": "[encoded data removed]",
      "text/plain": [
       "<Figure size 360x360 with 1 Axes>"
      ]
     },
     "metadata": {
      "needs_background": "light"
     },
     "output_type": "display_data"
    }
   ],
   "source": [
    "print('max price : {}'.format(productsDF['price'].max()))\n",
    "print('max price : {}'.format(productsDF['price'].min()))\n",
    "print('mean price : {}'.format(productsDF['price'].mean()))\n",
    "print('median price : {}'.format(productsDF['price'].median()))\n",
    "\n",
    "sbn.displot(data=productsDF, x='price', kind='ecdf', log_scale=True)\n"
   ]
  },
  {
   "cell_type": "code",
   "execution_count": 123,
   "metadata": {},
   "outputs": [
    {
     "data": {
      "text/plain": [
       "<AxesSubplot:xlabel='price'>"
      ]
     },
     "execution_count": 123,
     "metadata": {},
     "output_type": "execute_result"
    },
    {
     "data": {
      "image/png": "[encoded data removed]",
      "text/plain": [
       "<Figure size 432x288 with 1 Axes>"
      ]
     },
     "metadata": {
      "needs_background": "light"
     },
     "output_type": "display_data"
    }
   ],
   "source": [
    "sbn.violinplot(data=productsDF, x='price')"
   ]
  },
  {
   "cell_type": "code",
   "execution_count": 124,
   "metadata": {},
   "outputs": [
    {
     "data": {
      "text/plain": [
       "<seaborn.axisgrid.FacetGrid at 0x7f606208dd90>"
      ]
     },
     "execution_count": 124,
     "metadata": {},
     "output_type": "execute_result"
    },
    {
     "data": {
      "image/png": "[encoded data removed]",
      "text/plain": [
       "<Figure size 360x360 with 1 Axes>"
      ]
     },
     "metadata": {
      "needs_background": "light"
     },
     "output_type": "display_data"
    }
   ],
   "source": [
    "sbn.displot(data=productsDF, x='price', kind='kde')\n"
   ]
  },
  {
   "cell_type": "markdown",
   "metadata": {},
   "source": [
    "Po dystrybuancie widzimy, że większość cen produktów znajduje się w przedziale [0, 300], około 90%."
   ]
  },
  {
   "cell_type": "markdown",
   "metadata": {},
   "source": [
    "## Analiza użytkowników"
   ]
  },
  {
   "cell_type": "code",
   "execution_count": 125,
   "metadata": {},
   "outputs": [
    {
     "data": {
      "text/html": [
       "<div>\n",
       "<style scoped>\n",
       "    .dataframe tbody tr th:only-of-type {\n",
       "        vertical-align: middle;\n",
       "    }\n",
       "\n",
       "    .dataframe tbody tr th {\n",
       "        vertical-align: top;\n",
       "    }\n",
       "\n",
       "    .dataframe thead th {\n",
       "        text-align: right;\n",
       "    }\n",
       "</style>\n",
       "<table border=\"1\" class=\"dataframe\">\n",
       "  <thead>\n",
       "    <tr style=\"text-align: right;\">\n",
       "      <th></th>\n",
       "      <th>user_id</th>\n",
       "      <th>name</th>\n",
       "      <th>city</th>\n",
       "      <th>street</th>\n",
       "    </tr>\n",
       "  </thead>\n",
       "  <tbody>\n",
       "    <tr>\n",
       "      <th>0</th>\n",
       "      <td>102</td>\n",
       "      <td>Ernest Zacharek</td>\n",
       "      <td>Radom</td>\n",
       "      <td>ul. Bukowa 64</td>\n",
       "    </tr>\n",
       "    <tr>\n",
       "      <th>1</th>\n",
       "      <td>103</td>\n",
       "      <td>Tomasz Elwart</td>\n",
       "      <td>Gdynia</td>\n",
       "      <td>ul. Bałtycka 29</td>\n",
       "    </tr>\n",
       "    <tr>\n",
       "      <th>2</th>\n",
       "      <td>104</td>\n",
       "      <td>Jakub Machowiak</td>\n",
       "      <td>Poznań</td>\n",
       "      <td>pl. Nałkowskiej 64/51</td>\n",
       "    </tr>\n",
       "    <tr>\n",
       "      <th>3</th>\n",
       "      <td>105</td>\n",
       "      <td>Jan Kaziród</td>\n",
       "      <td>Wrocław</td>\n",
       "      <td>plac Borowa 70</td>\n",
       "    </tr>\n",
       "    <tr>\n",
       "      <th>4</th>\n",
       "      <td>106</td>\n",
       "      <td>Adrianna Pera</td>\n",
       "      <td>Radom</td>\n",
       "      <td>aleja Wiązowa 30/27</td>\n",
       "    </tr>\n",
       "  </tbody>\n",
       "</table>\n",
       "</div>"
      ],
      "text/plain": [
       "   user_id             name     city                 street\n",
       "0      102  Ernest Zacharek    Radom          ul. Bukowa 64\n",
       "1      103    Tomasz Elwart   Gdynia        ul. Bałtycka 29\n",
       "2      104  Jakub Machowiak   Poznań  pl. Nałkowskiej 64/51\n",
       "3      105      Jan Kaziród  Wrocław         plac Borowa 70\n",
       "4      106    Adrianna Pera    Radom    aleja Wiązowa 30/27"
      ]
     },
     "execution_count": 125,
     "metadata": {},
     "output_type": "execute_result"
    }
   ],
   "source": [
    "usersDF.head(n=5)"
   ]
  },
  {
   "cell_type": "markdown",
   "metadata": {},
   "source": [
    "Rekord użytkownika zawiera pola user_id, name, city, street"
   ]
  },
  {
   "cell_type": "code",
   "execution_count": 126,
   "metadata": {},
   "outputs": [
    {
     "name": "stdout",
     "output_type": "stream",
     "text": [
      "<class 'pandas.core.frame.DataFrame'>\n",
      "RangeIndex: 200 entries, 0 to 199\n",
      "Data columns (total 4 columns):\n",
      " #   Column   Non-Null Count  Dtype \n",
      "---  ------   --------------  ----- \n",
      " 0   user_id  200 non-null    int64 \n",
      " 1   name     200 non-null    object\n",
      " 2   city     200 non-null    object\n",
      " 3   street   200 non-null    object\n",
      "dtypes: int64(1), object(3)\n",
      "memory usage: 6.4+ KB\n"
     ]
    }
   ],
   "source": [
    "usersDF.info()"
   ]
  },
  {
   "cell_type": "markdown",
   "metadata": {},
   "source": [
    "Brak pustych pól w zbiorze użytkowników."
   ]
  },
  {
   "cell_type": "markdown",
   "metadata": {},
   "source": [
    "Analiza **user_id**"
   ]
  },
  {
   "cell_type": "code",
   "execution_count": 127,
   "metadata": {},
   "outputs": [
    {
     "name": "stdout",
     "output_type": "stream",
     "text": [
      "max id : 301\n",
      "min id : 102\n",
      "unique ids : 200/200\n"
     ]
    }
   ],
   "source": [
    "print('max id : {}'.format(usersDF['user_id'].max()))\n",
    "print('min id : {}'.format(usersDF['user_id'].min()))\n",
    "print('unique ids : {}/{}'.format(usersDF['user_id'].nunique(), usersDF['user_id'].size))"
   ]
  },
  {
   "cell_type": "markdown",
   "metadata": {},
   "source": [
    "Id są z liczbami całkowitymi z przedziału [102, 301]. Nie mam żadnych duplikatów. Jeżeli nazwy użytkowników będą unikalne będziemy mieć pewność, że nie mamy niejednoznaczności dotyczącej użytkownika."
   ]
  },
  {
   "cell_type": "code",
   "execution_count": 128,
   "metadata": {},
   "outputs": [
    {
     "name": "stdout",
     "output_type": "stream",
     "text": [
      "unique names : 199/200\n"
     ]
    }
   ],
   "source": [
    "print('unique names : {}/{}'.format(usersDF['name'].nunique(), usersDF['user_id'].size))"
   ]
  },
  {
   "cell_type": "code",
   "execution_count": 129,
   "metadata": {},
   "outputs": [
    {
     "data": {
      "text/html": [
       "<div>\n",
       "<style scoped>\n",
       "    .dataframe tbody tr th:only-of-type {\n",
       "        vertical-align: middle;\n",
       "    }\n",
       "\n",
       "    .dataframe tbody tr th {\n",
       "        vertical-align: top;\n",
       "    }\n",
       "\n",
       "    .dataframe thead th {\n",
       "        text-align: right;\n",
       "    }\n",
       "</style>\n",
       "<table border=\"1\" class=\"dataframe\">\n",
       "  <thead>\n",
       "    <tr style=\"text-align: right;\">\n",
       "      <th></th>\n",
       "      <th>user_id</th>\n",
       "      <th>name</th>\n",
       "      <th>city</th>\n",
       "      <th>street</th>\n",
       "    </tr>\n",
       "  </thead>\n",
       "  <tbody>\n",
       "    <tr>\n",
       "      <th>102</th>\n",
       "      <td>204</td>\n",
       "      <td>Fryderyk Pospiech</td>\n",
       "      <td>Radom</td>\n",
       "      <td>al. Piastowska 50</td>\n",
       "    </tr>\n",
       "    <tr>\n",
       "      <th>158</th>\n",
       "      <td>260</td>\n",
       "      <td>Fryderyk Pospiech</td>\n",
       "      <td>Wrocław</td>\n",
       "      <td>pl. Akacjowa 25</td>\n",
       "    </tr>\n",
       "  </tbody>\n",
       "</table>\n",
       "</div>"
      ],
      "text/plain": [
       "     user_id               name     city             street\n",
       "102      204  Fryderyk Pospiech    Radom  al. Piastowska 50\n",
       "158      260  Fryderyk Pospiech  Wrocław    pl. Akacjowa 25"
      ]
     },
     "execution_count": 129,
     "metadata": {},
     "output_type": "execute_result"
    }
   ],
   "source": [
    "usersDF[usersDF['name'].duplicated(keep=False)]"
   ]
  },
  {
   "cell_type": "markdown",
   "metadata": {},
   "source": [
    "Imiona nie są unikatowe. Wygląda na to, że klient pozwala na zakładanie wielu kont dla jednej osoby.\n",
    "Wydaje się, że nie jest to problemem, warto również wspomnieć, że wartość name raczej nie będzie użyteczna w procesie trenowania modelu."
   ]
  },
  {
   "cell_type": "markdown",
   "metadata": {},
   "source": [
    "Analiza **city**"
   ]
  },
  {
   "cell_type": "markdown",
   "metadata": {},
   "source": [
    "Warto sprawdzić, czy użytkownicy są reprezentatwyną grupą w kontekście działalności obszaru działalności klienta. Chcielibyśmy by model działał poprawnie dla wszystkich, miast w których operuje ESzopping, więc liczymy na to, że użytkownicy będą rozłożeni w równolicznych grupach."
   ]
  },
  {
   "cell_type": "code",
   "execution_count": 130,
   "metadata": {},
   "outputs": [
    {
     "data": {
      "text/plain": [
       "<seaborn.axisgrid.FacetGrid at 0x7f6062195fa0>"
      ]
     },
     "execution_count": 130,
     "metadata": {},
     "output_type": "execute_result"
    },
    {
     "data": {
      "image/png": "[encoded data removed]",
      "text/plain": [
       "<Figure size 720x720 with 1 Axes>"
      ]
     },
     "metadata": {
      "needs_background": "light"
     },
     "output_type": "display_data"
    }
   ],
   "source": [
    "sbn.catplot(data=usersDF, kind='count', x='city', height=10)"
   ]
  },
  {
   "cell_type": "markdown",
   "metadata": {},
   "source": [
    "Pomijając delikatną przewagę Warszawy i Krakowa mad resztą 'stawki', nie widzimy poważnych niereguralności w mieście zamieszkania użytkowników. "
   ]
  },
  {
   "cell_type": "markdown",
   "metadata": {},
   "source": [
    "Analiza **street**"
   ]
  },
  {
   "cell_type": "code",
   "execution_count": 131,
   "metadata": {},
   "outputs": [
    {
     "name": "stdout",
     "output_type": "stream",
     "text": [
      "unique streets : 200/200\n"
     ]
    }
   ],
   "source": [
    "print('unique streets : {}/{}'.format(usersDF['street'].nunique(), usersDF['user_id'].size))"
   ]
  },
  {
   "cell_type": "markdown",
   "metadata": {},
   "source": [
    "Wszystkie nazwy ulic są unikatowe.\n",
    "\n",
    "**street** i **city** będą ważnymi atrybutami dla naszego modelu. Nie trudno się domyśleć, że adres doręczenia przesyłki będzie grał ważną rolę przy predykcji."
   ]
  },
  {
   "cell_type": "markdown",
   "metadata": {},
   "source": [
    "## Analiza zakupów"
   ]
  },
  {
   "cell_type": "code",
   "execution_count": 132,
   "metadata": {},
   "outputs": [
    {
     "name": "stdout",
     "output_type": "stream",
     "text": [
      "<class 'pandas.core.frame.DataFrame'>\n",
      "RangeIndex: 7031 entries, 0 to 7030\n",
      "Data columns (total 4 columns):\n",
      " #   Column              Non-Null Count  Dtype \n",
      "---  ------              --------------  ----- \n",
      " 0   purchase_id         7031 non-null   int64 \n",
      " 1   purchase_timestamp  7031 non-null   object\n",
      " 2   delivery_timestamp  7031 non-null   object\n",
      " 3   delivery_company    7031 non-null   int64 \n",
      "dtypes: int64(2), object(2)\n",
      "memory usage: 219.8+ KB\n"
     ]
    }
   ],
   "source": [
    "purchasesDF.info()"
   ]
  },
  {
   "cell_type": "markdown",
   "metadata": {},
   "source": [
    "Rekordy są kompletne.\n",
    "Sprawdźmy jakie dane są zapisane w rekordach."
   ]
  },
  {
   "cell_type": "code",
   "execution_count": 133,
   "metadata": {},
   "outputs": [
    {
     "data": {
      "text/html": [
       "<div>\n",
       "<style scoped>\n",
       "    .dataframe tbody tr th:only-of-type {\n",
       "        vertical-align: middle;\n",
       "    }\n",
       "\n",
       "    .dataframe tbody tr th {\n",
       "        vertical-align: top;\n",
       "    }\n",
       "\n",
       "    .dataframe thead th {\n",
       "        text-align: right;\n",
       "    }\n",
       "</style>\n",
       "<table border=\"1\" class=\"dataframe\">\n",
       "  <thead>\n",
       "    <tr style=\"text-align: right;\">\n",
       "      <th></th>\n",
       "      <th>purchase_id</th>\n",
       "      <th>purchase_timestamp</th>\n",
       "      <th>delivery_timestamp</th>\n",
       "      <th>delivery_company</th>\n",
       "    </tr>\n",
       "  </thead>\n",
       "  <tbody>\n",
       "    <tr>\n",
       "      <th>0</th>\n",
       "      <td>20001</td>\n",
       "      <td>2021-09-20T14:30:28</td>\n",
       "      <td>2021-09-22T08:36:20.150497</td>\n",
       "      <td>360</td>\n",
       "    </tr>\n",
       "    <tr>\n",
       "      <th>1</th>\n",
       "      <td>20002</td>\n",
       "      <td>2021-03-05T13:27:41</td>\n",
       "      <td>2021-03-08T08:00:32.317562</td>\n",
       "      <td>620</td>\n",
       "    </tr>\n",
       "    <tr>\n",
       "      <th>2</th>\n",
       "      <td>20003</td>\n",
       "      <td>2021-07-28T13:44:26</td>\n",
       "      <td>2021-07-30T12:01:54.224889</td>\n",
       "      <td>360</td>\n",
       "    </tr>\n",
       "    <tr>\n",
       "      <th>3</th>\n",
       "      <td>20004</td>\n",
       "      <td>2021-09-01T18:54:49</td>\n",
       "      <td>2021-09-03T08:09:57.431414</td>\n",
       "      <td>360</td>\n",
       "    </tr>\n",
       "    <tr>\n",
       "      <th>4</th>\n",
       "      <td>20005</td>\n",
       "      <td>2021-09-11T12:33:54</td>\n",
       "      <td>2021-09-13T08:42:19.687349</td>\n",
       "      <td>360</td>\n",
       "    </tr>\n",
       "  </tbody>\n",
       "</table>\n",
       "</div>"
      ],
      "text/plain": [
       "   purchase_id   purchase_timestamp          delivery_timestamp  \\\n",
       "0        20001  2021-09-20T14:30:28  2021-09-22T08:36:20.150497   \n",
       "1        20002  2021-03-05T13:27:41  2021-03-08T08:00:32.317562   \n",
       "2        20003  2021-07-28T13:44:26  2021-07-30T12:01:54.224889   \n",
       "3        20004  2021-09-01T18:54:49  2021-09-03T08:09:57.431414   \n",
       "4        20005  2021-09-11T12:33:54  2021-09-13T08:42:19.687349   \n",
       "\n",
       "   delivery_company  \n",
       "0               360  \n",
       "1               620  \n",
       "2               360  \n",
       "3               360  \n",
       "4               360  "
      ]
     },
     "execution_count": 133,
     "metadata": {},
     "output_type": "execute_result"
    }
   ],
   "source": [
    "purchasesDF.head(n=5)"
   ]
  },
  {
   "cell_type": "markdown",
   "metadata": {},
   "source": [
    "Atrybuty **purchase_id** oraz **delivery_company** są identyfikatorami, więc łatwo będzie je przeanalizować.\n",
    "**purchase_timestamp** i **delivery_timestamp**, a wręcz ich różnica będzie przedmiotem predykcji, więc warto będzie przyjrzeć się tym atrybutom trochę bliżej."
   ]
  },
  {
   "cell_type": "markdown",
   "metadata": {},
   "source": [
    "Analiza **purchase_id**"
   ]
  },
  {
   "cell_type": "code",
   "execution_count": 134,
   "metadata": {},
   "outputs": [
    {
     "name": "stdout",
     "output_type": "stream",
     "text": [
      "max id : 27031\n",
      "min id : 20001\n",
      "unique ids : 7031/7031\n"
     ]
    }
   ],
   "source": [
    "print('max id : {}'.format(purchasesDF['purchase_id'].max()))\n",
    "print('min id : {}'.format(purchasesDF['purchase_id'].min()))\n",
    "print('unique ids : {}/{}'.format(purchasesDF['purchase_id'].nunique(), purchasesDF['purchase_id'].size))"
   ]
  },
  {
   "cell_type": "markdown",
   "metadata": {},
   "source": [
    "Id są unikatowe oraz w pełni pokrywają przedział [20001, 27031]."
   ]
  },
  {
   "cell_type": "markdown",
   "metadata": {},
   "source": [
    "Analiza **delivery_company**"
   ]
  },
  {
   "cell_type": "code",
   "execution_count": 135,
   "metadata": {},
   "outputs": [
    {
     "name": "stdout",
     "output_type": "stream",
     "text": [
      "max id : 620\n",
      "min id : 360\n",
      "unique ids : 3/7031\n"
     ]
    }
   ],
   "source": [
    "print('max id : {}'.format(purchasesDF['delivery_company'].max()))\n",
    "print('min id : {}'.format(purchasesDF['delivery_company'].min()))\n",
    "print('unique ids : {}/{}'.format(purchasesDF['delivery_company'].nunique(), purchasesDF['purchase_id'].size))"
   ]
  },
  {
   "cell_type": "markdown",
   "metadata": {},
   "source": [
    "Widzimy, że ESzopping współpracuje jedynie z 3 firmami kurierskimi."
   ]
  },
  {
   "cell_type": "code",
   "execution_count": 136,
   "metadata": {},
   "outputs": [
    {
     "data": {
      "text/plain": [
       "<seaborn.axisgrid.FacetGrid at 0x7f6062152c70>"
      ]
     },
     "execution_count": 136,
     "metadata": {},
     "output_type": "execute_result"
    },
    {
     "data": {
      "image/png": "[encoded data removed]",
      "text/plain": [
       "<Figure size 576x576 with 1 Axes>"
      ]
     },
     "metadata": {
      "needs_background": "light"
     },
     "output_type": "display_data"
    }
   ],
   "source": [
    "sbn.catplot(data=purchasesDF, kind='count', x='delivery_company', height=8)"
   ]
  },
  {
   "cell_type": "markdown",
   "metadata": {},
   "source": [
    "Na podstawie powyższego histogramu widzimy, że firmy maja praktycznie idenyczne obciążenie. Jest to przesłanka za tym, że dane są reprezentatywne, warto by sprawdzić, czy również w obrębie poszczególnych miast sytuacja wygląda tak samo. To sprawdzenie odroczymy do czasu scalenia danych."
   ]
  },
  {
   "cell_type": "markdown",
   "metadata": {},
   "source": [
    "Analiza **delivery_timestamp**, **purchase_timestamp**"
   ]
  },
  {
   "cell_type": "markdown",
   "metadata": {},
   "source": [
    "Dodamy nowe pole informacyjne **delivery_time** będące różnicą **purchase_timestamp** i **delivery_timestamp** oraz **week_day** informujący o dniu tygodnia [0, 6]"
   ]
  },
  {
   "cell_type": "code",
   "execution_count": 190,
   "metadata": {},
   "outputs": [
    {
     "data": {
      "text/html": [
       "<div>\n",
       "<style scoped>\n",
       "    .dataframe tbody tr th:only-of-type {\n",
       "        vertical-align: middle;\n",
       "    }\n",
       "\n",
       "    .dataframe tbody tr th {\n",
       "        vertical-align: top;\n",
       "    }\n",
       "\n",
       "    .dataframe thead th {\n",
       "        text-align: right;\n",
       "    }\n",
       "</style>\n",
       "<table border=\"1\" class=\"dataframe\">\n",
       "  <thead>\n",
       "    <tr style=\"text-align: right;\">\n",
       "      <th></th>\n",
       "      <th>purchase_id</th>\n",
       "      <th>purchase_timestamp</th>\n",
       "      <th>delivery_timestamp</th>\n",
       "      <th>delivery_company</th>\n",
       "      <th>delivery_time</th>\n",
       "      <th>week_day</th>\n",
       "    </tr>\n",
       "  </thead>\n",
       "  <tbody>\n",
       "    <tr>\n",
       "      <th>0</th>\n",
       "      <td>20001</td>\n",
       "      <td>2021-09-20T14:30:28</td>\n",
       "      <td>2021-09-22T08:36:20.150497</td>\n",
       "      <td>360</td>\n",
       "      <td>42.097778</td>\n",
       "      <td>0</td>\n",
       "    </tr>\n",
       "    <tr>\n",
       "      <th>1</th>\n",
       "      <td>20002</td>\n",
       "      <td>2021-03-05T13:27:41</td>\n",
       "      <td>2021-03-08T08:00:32.317562</td>\n",
       "      <td>620</td>\n",
       "      <td>66.547500</td>\n",
       "      <td>4</td>\n",
       "    </tr>\n",
       "    <tr>\n",
       "      <th>2</th>\n",
       "      <td>20003</td>\n",
       "      <td>2021-07-28T13:44:26</td>\n",
       "      <td>2021-07-30T12:01:54.224889</td>\n",
       "      <td>360</td>\n",
       "      <td>46.291111</td>\n",
       "      <td>2</td>\n",
       "    </tr>\n",
       "    <tr>\n",
       "      <th>3</th>\n",
       "      <td>20004</td>\n",
       "      <td>2021-09-01T18:54:49</td>\n",
       "      <td>2021-09-03T08:09:57.431414</td>\n",
       "      <td>360</td>\n",
       "      <td>37.252222</td>\n",
       "      <td>2</td>\n",
       "    </tr>\n",
       "    <tr>\n",
       "      <th>4</th>\n",
       "      <td>20005</td>\n",
       "      <td>2021-09-11T12:33:54</td>\n",
       "      <td>2021-09-13T08:42:19.687349</td>\n",
       "      <td>360</td>\n",
       "      <td>44.140278</td>\n",
       "      <td>5</td>\n",
       "    </tr>\n",
       "  </tbody>\n",
       "</table>\n",
       "</div>"
      ],
      "text/plain": [
       "   purchase_id   purchase_timestamp          delivery_timestamp  \\\n",
       "0        20001  2021-09-20T14:30:28  2021-09-22T08:36:20.150497   \n",
       "1        20002  2021-03-05T13:27:41  2021-03-08T08:00:32.317562   \n",
       "2        20003  2021-07-28T13:44:26  2021-07-30T12:01:54.224889   \n",
       "3        20004  2021-09-01T18:54:49  2021-09-03T08:09:57.431414   \n",
       "4        20005  2021-09-11T12:33:54  2021-09-13T08:42:19.687349   \n",
       "\n",
       "   delivery_company  delivery_time  week_day  \n",
       "0               360      42.097778         0  \n",
       "1               620      66.547500         4  \n",
       "2               360      46.291111         2  \n",
       "3               360      37.252222         2  \n",
       "4               360      44.140278         5  "
      ]
     },
     "execution_count": 190,
     "metadata": {},
     "output_type": "execute_result"
    }
   ],
   "source": [
    "import dateutil.parser as dt\n",
    "delivery_time = [0 for i in range(0, len(purchasesDF.index))]\n",
    "week_day = [0 for i in range(0, len(purchasesDF.index))]\n",
    "\n",
    "for index, row in purchasesDF.iterrows():\n",
    "    end = row['delivery_timestamp']\n",
    "    beg = row['purchase_timestamp']\n",
    "    \n",
    "    week_day[index] = dt.isoparse(beg).weekday()\n",
    "    \n",
    "    time = dt.isoparse(end) - dt.isoparse(beg)\n",
    "    time = time.days * 24 + time.seconds / 3600\n",
    "    delivery_time[index] = time\n",
    "\n",
    "purchasesDF_processed = purchasesDF.copy()\n",
    "purchasesDF_processed['delivery_time'] = delivery_time\n",
    "purchasesDF_processed['week_day'] = week_day\n",
    "\n",
    "purchasesDF_processed.head(n=5)"
   ]
  },
  {
   "cell_type": "markdown",
   "metadata": {},
   "source": [
    "Sprawdźmy, czy mamy korelację między dniem zakupu, a czasem dostawy. Wydaje się, że powinniśmy otrzymać odpowiedź twierdzącą."
   ]
  },
  {
   "cell_type": "code",
   "execution_count": 196,
   "metadata": {},
   "outputs": [
    {
     "name": "stdout",
     "output_type": "stream",
     "text": [
      "Pearsons correlation is : 0.09222263163825788\n"
     ]
    }
   ],
   "source": [
    "from scipy.stats import pearsonr\n",
    "\n",
    "corr, _ = pearsonr(purchasesDF_processed['week_day'], purchasesDF_processed['delivery_time'])\n",
    "\n",
    "print('Pearsons correlation is : {}'.format(corr))"
   ]
  },
  {
   "cell_type": "markdown",
   "metadata": {},
   "source": [
    "Jednak brak korelacji.\n",
    "\n",
    "Sprawdźmy, czy osoby zamawiające tuż przed weekendem, albo w jego trakcie, czekają dłużej niż osoby z początku tygodnia."
   ]
  },
  {
   "cell_type": "code",
   "execution_count": 214,
   "metadata": {},
   "outputs": [
    {
     "data": {
      "text/plain": [
       "<seaborn.axisgrid.FacetGrid at 0x7f606ec009d0>"
      ]
     },
     "execution_count": 214,
     "metadata": {},
     "output_type": "execute_result"
    },
    {
     "data": {
      "image/png": "[encoded data removed]",
      "text/plain": [
       "<Figure size 360x360 with 1 Axes>"
      ]
     },
     "metadata": {
      "needs_background": "light"
     },
     "output_type": "display_data"
    },
    {
     "data": {
      "image/png": "[encoded data removed]",
      "text/plain": [
       "<Figure size 360x360 with 1 Axes>"
      ]
     },
     "metadata": {
      "needs_background": "light"
     },
     "output_type": "display_data"
    },
    {
     "data": {
      "image/png": "[encoded data removed]",
      "text/plain": [
       "<Figure size 360x360 with 1 Axes>"
      ]
     },
     "metadata": {
      "needs_background": "light"
     },
     "output_type": "display_data"
    },
    {
     "data": {
      "image/png": "[encoded data removed]",
      "text/plain": [
       "<Figure size 360x360 with 1 Axes>"
      ]
     },
     "metadata": {
      "needs_background": "light"
     },
     "output_type": "display_data"
    },
    {
     "data": {
      "image/png": "[encoded data removed]",
      "text/plain": [
       "<Figure size 360x360 with 1 Axes>"
      ]
     },
     "metadata": {
      "needs_background": "light"
     },
     "output_type": "display_data"
    },
    {
     "data": {
      "image/png": "[encoded data removed]",
      "text/plain": [
       "<Figure size 360x360 with 1 Axes>"
      ]
     },
     "metadata": {
      "needs_background": "light"
     },
     "output_type": "display_data"
    },
    {
     "data": {
      "image/png": "[encoded data removed]",
      "text/plain": [
       "<Figure size 360x360 with 1 Axes>"
      ]
     },
     "metadata": {
      "needs_background": "light"
     },
     "output_type": "display_data"
    }
   ],
   "source": [
    "sbn.displot(data=purchasesDF_processed[purchasesDF_processed.week_day==0], x='delivery_time', kind='kde')\n",
    "sbn.displot(data=purchasesDF_processed[purchasesDF_processed.week_day==1], x='delivery_time', kind='kde')\n",
    "sbn.displot(data=purchasesDF_processed[purchasesDF_processed.week_day==2], x='delivery_time', kind='kde')\n",
    "sbn.displot(data=purchasesDF_processed[purchasesDF_processed.week_day==3], x='delivery_time', kind='kde')\n",
    "sbn.displot(data=purchasesDF_processed[purchasesDF_processed.week_day==4], x='delivery_time', kind='kde')\n",
    "sbn.displot(data=purchasesDF_processed[purchasesDF_processed.week_day==5], x='delivery_time', kind='kde')\n",
    "sbn.displot(data=purchasesDF_processed[purchasesDF_processed.week_day==6], x='delivery_time', kind='kde')\n",
    "\n"
   ]
  },
  {
   "cell_type": "markdown",
   "metadata": {},
   "source": [
    "Rozkłady żadnego z dni nie są normalne. Możemy zauważyć, że począwszy od poniedziałku 'szczyt' wykresu przesuwa się ku prawej stronie, czyli dłuższy czasom przesyłki.\n",
    "Może to wynikać z faktu, że w weekendy zwykle nie są traktowane jako dni robocze, co przedłuża przesyłkę. Okres oczekiwania skraca się w miarę dochodzenia do końca tygodnia\n",
    "ponieważ, kończy się weekend. Warto wziąć to pod uwagę."
   ]
  },
  {
   "cell_type": "markdown",
   "metadata": {},
   "source": [
    "## Analiza sesji"
   ]
  }
 ],
 "metadata": {
  "interpreter": {
   "hash": "916dbcbb3f70747c44a77c7bcd40155683ae19c65e1c03b4aa3499c5328201f1"
  },
  "kernelspec": {
   "display_name": "Python 3.8.10 64-bit",
   "language": "python",
   "name": "python3"
  },
  "language_info": {
   "codemirror_mode": {
    "name": "ipython",
    "version": 3
   },
   "file_extension": ".py",
   "mimetype": "text/x-python",
   "name": "python",
   "nbconvert_exporter": "python",
   "pygments_lexer": "ipython3",
   "version": "3.8.10"
  },
  "orig_nbformat": 4
 },
 "nbformat": 4,
 "nbformat_minor": 2
}
