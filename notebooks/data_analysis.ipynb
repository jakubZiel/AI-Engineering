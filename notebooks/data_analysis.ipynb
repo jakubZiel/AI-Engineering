{
 "cells": [
  {
   "cell_type": "markdown",
   "metadata": {},
   "source": [
    "# Notebook - analiza danych\n",
    "\n",
    "- Przeprowadzimy analizę danych dla każdego pliku z osobna, w celu wyłapania ewentualnych błedów w danych\n",
    "  oraz ocenienia ich użyteczności\n",
    "- Scalimy piki w jeden zbiór, a następnie zbadamy jego właściwości\n",
    "- Na podstawie tej analizy zaproponujemy, wyjściowy zbiór, który zostanie użyty w dalszy etapach implementacji naszego rozwiązania."
   ]
  },
  {
   "cell_type": "markdown",
   "metadata": {},
   "source": [
    "Inicializacja środowiska.\n",
    "\n",
    "Notebook korzysta z modułów pandas, matplotli, seaborn, które można \"dociągnąc\" przy pomocy pip3\n",
    "\n",
    "pip3 install [module]"
   ]
  },
  {
   "cell_type": "markdown",
   "metadata": {},
   "source": [
    "Inicializacja środowiska."
   ]
  },
  {
   "cell_type": "code",
   "execution_count": 242,
   "metadata": {},
   "outputs": [],
   "source": [
    "import pandas as pd\n",
    "import matplotlib.pyplot as plt\n",
    "import seaborn as sbn\n",
    "\n",
    "pd.set_option('display.max_rows', None)\n",
    "pd.set_option('display.max_columns', None)\n",
    "pd.set_option('max_colwidth', None)\n",
    "\n",
    "userDataPath = '../data/raw/users.jsonl'\n",
    "productDataPath = '../data/raw/products.jsonl'\n",
    "purchaseDataPath = '../data/raw/purchases.jsonl'\n",
    "sessionsDataPath = '../data/raw/sessions.jsonl'\n",
    "\n",
    "\n",
    "usersDF = pd.read_json(userDataPath, lines = True)\n",
    "productsDF = pd.read_json(productDataPath, lines = True)\n",
    "purchasesDF = pd.read_json(purchaseDataPath, lines = True)\n",
    "sessionsDF = pd.read_json(sessionsDataPath, lines = True)"
   ]
  },
  {
   "cell_type": "markdown",
   "metadata": {},
   "source": [
    "## Analiza produktów"
   ]
  },
  {
   "cell_type": "code",
   "execution_count": 243,
   "metadata": {},
   "outputs": [
    {
     "data": {
      "text/html": [
       "<div>\n",
       "<style scoped>\n",
       "    .dataframe tbody tr th:only-of-type {\n",
       "        vertical-align: middle;\n",
       "    }\n",
       "\n",
       "    .dataframe tbody tr th {\n",
       "        vertical-align: top;\n",
       "    }\n",
       "\n",
       "    .dataframe thead th {\n",
       "        text-align: right;\n",
       "    }\n",
       "</style>\n",
       "<table border=\"1\" class=\"dataframe\">\n",
       "  <thead>\n",
       "    <tr style=\"text-align: right;\">\n",
       "      <th></th>\n",
       "      <th>product_id</th>\n",
       "      <th>product_name</th>\n",
       "      <th>category_path</th>\n",
       "      <th>price</th>\n",
       "    </tr>\n",
       "  </thead>\n",
       "  <tbody>\n",
       "    <tr>\n",
       "      <th>0</th>\n",
       "      <td>1001</td>\n",
       "      <td>Telefon Siemens Gigaset DA310</td>\n",
       "      <td>Telefony i akcesoria;Telefony stacjonarne</td>\n",
       "      <td>58.97</td>\n",
       "    </tr>\n",
       "    <tr>\n",
       "      <th>1</th>\n",
       "      <td>1002</td>\n",
       "      <td>Kyocera FS-1135MFP</td>\n",
       "      <td>Komputery;Drukarki i skanery;Biurowe urządzenia wielofunkcyjne</td>\n",
       "      <td>2048.50</td>\n",
       "    </tr>\n",
       "    <tr>\n",
       "      <th>2</th>\n",
       "      <td>1003</td>\n",
       "      <td>Kyocera FS-3640MFP</td>\n",
       "      <td>Komputery;Drukarki i skanery;Biurowe urządzenia wielofunkcyjne</td>\n",
       "      <td>7639.00</td>\n",
       "    </tr>\n",
       "    <tr>\n",
       "      <th>3</th>\n",
       "      <td>1004</td>\n",
       "      <td>Fallout 3 (Xbox 360)</td>\n",
       "      <td>Gry i konsole;Gry na konsole;Gry Xbox 360</td>\n",
       "      <td>49.99</td>\n",
       "    </tr>\n",
       "    <tr>\n",
       "      <th>4</th>\n",
       "      <td>1005</td>\n",
       "      <td>Szalone Króliki Na żywo i w kolorze (Xbox 360)</td>\n",
       "      <td>Gry i konsole;Gry na konsole;Gry Xbox 360</td>\n",
       "      <td>49.99</td>\n",
       "    </tr>\n",
       "  </tbody>\n",
       "</table>\n",
       "</div>"
      ],
      "text/plain": [
       "   product_id                                    product_name  \\\n",
       "0        1001                   Telefon Siemens Gigaset DA310   \n",
       "1        1002                              Kyocera FS-1135MFP   \n",
       "2        1003                              Kyocera FS-3640MFP   \n",
       "3        1004                            Fallout 3 (Xbox 360)   \n",
       "4        1005  Szalone Króliki Na żywo i w kolorze (Xbox 360)   \n",
       "\n",
       "                                                    category_path    price  \n",
       "0                       Telefony i akcesoria;Telefony stacjonarne    58.97  \n",
       "1  Komputery;Drukarki i skanery;Biurowe urządzenia wielofunkcyjne  2048.50  \n",
       "2  Komputery;Drukarki i skanery;Biurowe urządzenia wielofunkcyjne  7639.00  \n",
       "3                       Gry i konsole;Gry na konsole;Gry Xbox 360    49.99  \n",
       "4                       Gry i konsole;Gry na konsole;Gry Xbox 360    49.99  "
      ]
     },
     "execution_count": 243,
     "metadata": {},
     "output_type": "execute_result"
    }
   ],
   "source": [
    "productsDF.head(n=5)"
   ]
  },
  {
   "cell_type": "markdown",
   "metadata": {},
   "source": [
    "Wyróżniamy product_id, product_name, category_path oraz price.\n",
    "Szczególnie powinniśmy się przyjrzeć polu **category_path**.\n",
    "Reprezentuje hierarchiczną strukturę kategorii. Patrząc od lewej do prawej, mamy najogólniejsze zkategoryzowanie kończąc na najbardziej szczegółowym. "
   ]
  },
  {
   "cell_type": "code",
   "execution_count": 244,
   "metadata": {},
   "outputs": [
    {
     "name": "stdout",
     "output_type": "stream",
     "text": [
      "<class 'pandas.core.frame.DataFrame'>\n",
      "RangeIndex: 319 entries, 0 to 318\n",
      "Data columns (total 4 columns):\n",
      " #   Column         Non-Null Count  Dtype  \n",
      "---  ------         --------------  -----  \n",
      " 0   product_id     319 non-null    int64  \n",
      " 1   product_name   319 non-null    object \n",
      " 2   category_path  319 non-null    object \n",
      " 3   price          319 non-null    float64\n",
      "dtypes: float64(1), int64(1), object(2)\n",
      "memory usage: 10.1+ KB\n"
     ]
    }
   ],
   "source": [
    "productsDF.info()"
   ]
  },
  {
   "cell_type": "markdown",
   "metadata": {},
   "source": [
    "Widzimy, że w żadnym atrybucie nie ma pustych pól, możemy o tym wnioskować z faktu, że ilość rekordów (319 : entries)  jest równa każdej z wartości w kolumnie non-null count."
   ]
  },
  {
   "cell_type": "markdown",
   "metadata": {},
   "source": [
    "Analiza **product_id**"
   ]
  },
  {
   "cell_type": "code",
   "execution_count": 245,
   "metadata": {},
   "outputs": [
    {
     "name": "stdout",
     "output_type": "stream",
     "text": [
      "max id : 1319\n",
      "min id : 1001\n",
      "unique ids : 319/319\n"
     ]
    }
   ],
   "source": [
    "print('max id : {}'.format(productsDF['product_id'].max()))\n",
    "print('min id : {}'.format(productsDF['product_id'].min()))\n",
    "print('unique ids : {}/{}'.format(productsDF['product_id'].nunique(), productsDF['product_id'].size))"
   ]
  },
  {
   "cell_type": "markdown",
   "metadata": {},
   "source": [
    "**product_id** jest z liczbą całkowitą z przedziału [1001 - 1319].\n",
    "Widzimy również, że wszystkie id są unikalne, więc nie będziemy mieć problemu z niejdnoznacznością w przyadku produktów."
   ]
  },
  {
   "cell_type": "markdown",
   "metadata": {},
   "source": [
    "Analiza **product_name**"
   ]
  },
  {
   "cell_type": "code",
   "execution_count": 246,
   "metadata": {},
   "outputs": [
    {
     "name": "stdout",
     "output_type": "stream",
     "text": [
      "unique names : 319/319\n"
     ]
    }
   ],
   "source": [
    "print('unique names : {}/{}'.format(productsDF['product_name'].nunique(), productsDF['product_name'].size))"
   ]
  },
  {
   "cell_type": "markdown",
   "metadata": {},
   "source": [
    "Wszystkie nazwy produktów są unikatowe."
   ]
  },
  {
   "cell_type": "markdown",
   "metadata": {},
   "source": [
    "Analiza **category_path**"
   ]
  },
  {
   "cell_type": "code",
   "execution_count": 247,
   "metadata": {},
   "outputs": [
    {
     "name": "stdout",
     "output_type": "stream",
     "text": [
      "                                    Gry i konsole;Gry komputerowe\n",
      "                    Gry i konsole;Gry na konsole;Gry PlayStation3\n",
      "                        Gry i konsole;Gry na konsole;Gry Xbox 360\n",
      "   Komputery;Drukarki i skanery;Biurowe urządzenia wielofunkcyjne\n",
      "                                  Komputery;Monitory;Monitory LCD\n",
      "                            Komputery;Tablety i akcesoria;Tablety\n",
      "                                       Sprzęt RTV;Audio;Słuchawki\n",
      "         Sprzęt RTV;Przenośne audio i video;Odtwarzacze mp3 i mp4\n",
      "                                 Sprzęt RTV;Video;Odtwarzacze DVD\n",
      "               Sprzęt RTV;Video;Telewizory i akcesoria;Anteny RTV\n",
      "               Sprzęt RTV;Video;Telewizory i akcesoria;Okulary 3D\n",
      "Telefony i akcesoria;Akcesoria telefoniczne;Zestawy głośnomówiące\n",
      "  Telefony i akcesoria;Akcesoria telefoniczne;Zestawy słuchawkowe\n",
      "                          Telefony i akcesoria;Telefony komórkowe\n",
      "                        Telefony i akcesoria;Telefony stacjonarne\n"
     ]
    }
   ],
   "source": [
    "print(\n",
    "    productsDF['category_path']\n",
    "        .drop_duplicates()\n",
    "        .sort_values()\n",
    "        .to_string(index=False)\n",
    ") "
   ]
  },
  {
   "cell_type": "markdown",
   "metadata": {},
   "source": [
    "Zbiór wszystkich unikalnych kategoryzacji występujących w naszych danych. Wartos sprawdzić jak wygląda liczność każdej z kategorii."
   ]
  },
  {
   "cell_type": "code",
   "execution_count": 248,
   "metadata": {},
   "outputs": [
    {
     "data": {
      "text/plain": [
       "category_path\n",
       "Sprzęt RTV;Audio;Słuchawki                                             1\n",
       "Sprzęt RTV;Video;Telewizory i akcesoria;Okulary 3D                     1\n",
       "Telefony i akcesoria;Telefony stacjonarne                              1\n",
       "Komputery;Tablety i akcesoria;Tablety                                  2\n",
       "Sprzęt RTV;Przenośne audio i video;Odtwarzacze mp3 i mp4               2\n",
       "Sprzęt RTV;Video;Odtwarzacze DVD                                       2\n",
       "Telefony i akcesoria;Telefony komórkowe                                2\n",
       "Telefony i akcesoria;Akcesoria telefoniczne;Zestawy słuchawkowe        4\n",
       "Telefony i akcesoria;Akcesoria telefoniczne;Zestawy głośnomówiące      5\n",
       "Gry i konsole;Gry na konsole;Gry PlayStation3                          9\n",
       "Komputery;Drukarki i skanery;Biurowe urządzenia wielofunkcyjne         9\n",
       "Komputery;Monitory;Monitory LCD                                       17\n",
       "Sprzęt RTV;Video;Telewizory i akcesoria;Anteny RTV                    30\n",
       "Gry i konsole;Gry na konsole;Gry Xbox 360                             32\n",
       "Gry i konsole;Gry komputerowe                                        202\n",
       "Name: product_id, dtype: int64"
      ]
     },
     "execution_count": 248,
     "metadata": {},
     "output_type": "execute_result"
    }
   ],
   "source": [
    "productsDF.groupby('category_path')['product_id'].count().sort_values()"
   ]
  },
  {
   "cell_type": "markdown",
   "metadata": {},
   "source": [
    "Widzimy, że bardzo liczną grupą jest **'Gry i konsole;Gry komputerowe**. Nie jesteśmy w stanie podzielić jej na mniejsze, ale możemy spróbować scalić grupy o wspónych 'prefikasch'."
   ]
  },
  {
   "cell_type": "code",
   "execution_count": 249,
   "metadata": {},
   "outputs": [
    {
     "data": {
      "text/plain": [
       "0                                         Gry i konsole;Gry komputerowe\n",
       "1                         Gry i konsole;Gry na konsole;Gry PlayStation3\n",
       "2                             Gry i konsole;Gry na konsole;Gry Xbox 360\n",
       "3        Komputery;Drukarki i skanery;Biurowe urządzenia wielofunkcyjne\n",
       "4                                       Komputery;Monitory;Monitory LCD\n",
       "5                                 Komputery;Tablety i akcesoria;Tablety\n",
       "6                                            Sprzęt RTV;Audio;Słuchawki\n",
       "7              Sprzęt RTV;Przenośne audio i video;Odtwarzacze mp3 i mp4\n",
       "8                                      Sprzęt RTV;Video;Odtwarzacze DVD\n",
       "9                    Sprzęt RTV;Video;Telewizory i akcesoria;Anteny RTV\n",
       "10                   Sprzęt RTV;Video;Telewizory i akcesoria;Okulary 3D\n",
       "11    Telefony i akcesoria;Akcesoria telefoniczne;Zestawy głośnomówiące\n",
       "12      Telefony i akcesoria;Akcesoria telefoniczne;Zestawy słuchawkowe\n",
       "13                              Telefony i akcesoria;Telefony komórkowe\n",
       "14                            Telefony i akcesoria;Telefony stacjonarne\n",
       "Name: category_path, dtype: object"
      ]
     },
     "execution_count": 249,
     "metadata": {},
     "output_type": "execute_result"
    }
   ],
   "source": [
    "productsDF['category_path'].drop_duplicates().sort_values(ignore_index=True)"
   ]
  },
  {
   "cell_type": "markdown",
   "metadata": {},
   "source": [
    "Łatwiej będzie nam zrzutować posortowane kategorie.\n",
    "\n",
    "Sensownym było by wyróżnić 5 categorii o następujących licznościach:\n",
    "- 'Gry komputerowe' : 202 \n",
    "- 'Gry na konsole' : 41\n",
    "- 'Sprzęt RTV' : 36\n",
    "- 'Komputery' : 28\n",
    "- 'Telefony i akcesoria' :  12"
   ]
  },
  {
   "cell_type": "code",
   "execution_count": 250,
   "metadata": {},
   "outputs": [
    {
     "data": {
      "text/plain": [
       "Gry komputerowe         202\n",
       "Gry na konsole           41\n",
       "Sprzęt RTV               36\n",
       "Komputery                28\n",
       "Telefony i akcesoria     12\n",
       "Name: category_path, dtype: int64"
      ]
     },
     "execution_count": 250,
     "metadata": {},
     "output_type": "execute_result"
    }
   ],
   "source": [
    "groups = [\n",
    "    'Gry komputerowe',\n",
    "    'Gry na konsole', \n",
    "    'Sprzęt RTV', \n",
    "    'Komputery', \n",
    "    'Telefony i akcesoria'\n",
    "    ]\n",
    "\n",
    "def castCategory(category_path):\n",
    "    categories = category_path.split(';')\n",
    "    casts = [sub_category for sub_category in categories if sub_category in groups]\n",
    "    if (len(casts) != 1):\n",
    "        raise RuntimeError('number of casts should be 1 but is : {}'.format(casts))\n",
    "    return casts[0]\n",
    "\n",
    "productsDF_processed_groups = productsDF['category_path'].apply(castCategory)\n",
    "productsDF_processed = productsDF.copy()\n",
    "\n",
    "productsDF_processed['category_path'] = productsDF_processed_groups\n",
    "\n",
    "productsDF_processed_groups.value_counts()"
   ]
  },
  {
   "cell_type": "code",
   "execution_count": 251,
   "metadata": {},
   "outputs": [
    {
     "data": {
      "text/html": [
       "<div>\n",
       "<style scoped>\n",
       "    .dataframe tbody tr th:only-of-type {\n",
       "        vertical-align: middle;\n",
       "    }\n",
       "\n",
       "    .dataframe tbody tr th {\n",
       "        vertical-align: top;\n",
       "    }\n",
       "\n",
       "    .dataframe thead th {\n",
       "        text-align: right;\n",
       "    }\n",
       "</style>\n",
       "<table border=\"1\" class=\"dataframe\">\n",
       "  <thead>\n",
       "    <tr style=\"text-align: right;\">\n",
       "      <th></th>\n",
       "      <th>product_id</th>\n",
       "      <th>product_name</th>\n",
       "      <th>category_path</th>\n",
       "      <th>price</th>\n",
       "    </tr>\n",
       "  </thead>\n",
       "  <tbody>\n",
       "    <tr>\n",
       "      <th>0</th>\n",
       "      <td>1001</td>\n",
       "      <td>Telefon Siemens Gigaset DA310</td>\n",
       "      <td>Telefony i akcesoria</td>\n",
       "      <td>58.97</td>\n",
       "    </tr>\n",
       "    <tr>\n",
       "      <th>1</th>\n",
       "      <td>1002</td>\n",
       "      <td>Kyocera FS-1135MFP</td>\n",
       "      <td>Komputery</td>\n",
       "      <td>2048.50</td>\n",
       "    </tr>\n",
       "    <tr>\n",
       "      <th>2</th>\n",
       "      <td>1003</td>\n",
       "      <td>Kyocera FS-3640MFP</td>\n",
       "      <td>Komputery</td>\n",
       "      <td>7639.00</td>\n",
       "    </tr>\n",
       "    <tr>\n",
       "      <th>3</th>\n",
       "      <td>1004</td>\n",
       "      <td>Fallout 3 (Xbox 360)</td>\n",
       "      <td>Gry na konsole</td>\n",
       "      <td>49.99</td>\n",
       "    </tr>\n",
       "    <tr>\n",
       "      <th>4</th>\n",
       "      <td>1005</td>\n",
       "      <td>Szalone Króliki Na żywo i w kolorze (Xbox 360)</td>\n",
       "      <td>Gry na konsole</td>\n",
       "      <td>49.99</td>\n",
       "    </tr>\n",
       "  </tbody>\n",
       "</table>\n",
       "</div>"
      ],
      "text/plain": [
       "   product_id                                    product_name  \\\n",
       "0        1001                   Telefon Siemens Gigaset DA310   \n",
       "1        1002                              Kyocera FS-1135MFP   \n",
       "2        1003                              Kyocera FS-3640MFP   \n",
       "3        1004                            Fallout 3 (Xbox 360)   \n",
       "4        1005  Szalone Króliki Na żywo i w kolorze (Xbox 360)   \n",
       "\n",
       "          category_path    price  \n",
       "0  Telefony i akcesoria    58.97  \n",
       "1             Komputery  2048.50  \n",
       "2             Komputery  7639.00  \n",
       "3        Gry na konsole    49.99  \n",
       "4        Gry na konsole    49.99  "
      ]
     },
     "execution_count": 251,
     "metadata": {},
     "output_type": "execute_result"
    }
   ],
   "source": [
    "productsDF_processed.head(n=5)"
   ]
  },
  {
   "cell_type": "markdown",
   "metadata": {},
   "source": []
  },
  {
   "cell_type": "markdown",
   "metadata": {},
   "source": [
    "Wynik rzutowania zgadza zgadza się z naszymi wstępnymi szacunkami."
   ]
  },
  {
   "cell_type": "markdown",
   "metadata": {},
   "source": [
    "Analiza **price**"
   ]
  },
  {
   "cell_type": "code",
   "execution_count": 252,
   "metadata": {},
   "outputs": [
    {
     "name": "stdout",
     "output_type": "stream",
     "text": [
      "max price : 7639.0\n",
      "max price : 1.0\n",
      "mean price : 247.78796238244504\n",
      "median price : 41.0\n"
     ]
    },
    {
     "data": {
      "text/plain": [
       "<seaborn.axisgrid.FacetGrid at 0x19f3e936e00>"
      ]
     },
     "execution_count": 252,
     "metadata": {},
     "output_type": "execute_result"
    },
    {
     "data": {
      "image/png": "[encoded data removed]",
      "text/plain": [
       "<Figure size 360x360 with 1 Axes>"
      ]
     },
     "metadata": {
      "needs_background": "light"
     },
     "output_type": "display_data"
    }
   ],
   "source": [
    "print('max price : {}'.format(productsDF['price'].max()))\n",
    "print('max price : {}'.format(productsDF['price'].min()))\n",
    "print('mean price : {}'.format(productsDF['price'].mean()))\n",
    "print('median price : {}'.format(productsDF['price'].median()))\n",
    "\n",
    "sbn.displot(data=productsDF, x='price', kind='ecdf', log_scale=True)\n"
   ]
  },
  {
   "cell_type": "code",
   "execution_count": 253,
   "metadata": {},
   "outputs": [
    {
     "data": {
      "text/plain": [
       "<AxesSubplot:xlabel='price'>"
      ]
     },
     "execution_count": 253,
     "metadata": {},
     "output_type": "execute_result"
    },
    {
     "data": {
      "image/png": "[encoded data removed]",
      "text/plain": [
       "<Figure size 432x288 with 1 Axes>"
      ]
     },
     "metadata": {
      "needs_background": "light"
     },
     "output_type": "display_data"
    }
   ],
   "source": [
    "sbn.violinplot(data=productsDF, x='price')"
   ]
  },
  {
   "cell_type": "code",
   "execution_count": 254,
   "metadata": {},
   "outputs": [
    {
     "data": {
      "text/plain": [
       "<seaborn.axisgrid.FacetGrid at 0x19f3bbe13f0>"
      ]
     },
     "execution_count": 254,
     "metadata": {},
     "output_type": "execute_result"
    },
    {
     "data": {
      "image/png": "[encoded data removed]",
      "text/plain": [
       "<Figure size 1080x360 with 1 Axes>"
      ]
     },
     "metadata": {
      "needs_background": "light"
     },
     "output_type": "display_data"
    }
   ],
   "source": [
    "sbn.displot(data=productsDF, x='price', kind='kde', aspect=3,)\n"
   ]
  },
  {
   "cell_type": "markdown",
   "metadata": {},
   "source": [
    "Po dystrybuancie widzimy, że większość cen produktów znajduje się w przedziale [0, 300], około 90%."
   ]
  },
  {
   "cell_type": "markdown",
   "metadata": {},
   "source": [
    "## Analiza użytkowników"
   ]
  },
  {
   "cell_type": "code",
   "execution_count": 255,
   "metadata": {},
   "outputs": [
    {
     "data": {
      "text/html": [
       "<div>\n",
       "<style scoped>\n",
       "    .dataframe tbody tr th:only-of-type {\n",
       "        vertical-align: middle;\n",
       "    }\n",
       "\n",
       "    .dataframe tbody tr th {\n",
       "        vertical-align: top;\n",
       "    }\n",
       "\n",
       "    .dataframe thead th {\n",
       "        text-align: right;\n",
       "    }\n",
       "</style>\n",
       "<table border=\"1\" class=\"dataframe\">\n",
       "  <thead>\n",
       "    <tr style=\"text-align: right;\">\n",
       "      <th></th>\n",
       "      <th>user_id</th>\n",
       "      <th>name</th>\n",
       "      <th>city</th>\n",
       "      <th>street</th>\n",
       "    </tr>\n",
       "  </thead>\n",
       "  <tbody>\n",
       "    <tr>\n",
       "      <th>0</th>\n",
       "      <td>102</td>\n",
       "      <td>Ernest Zacharek</td>\n",
       "      <td>Radom</td>\n",
       "      <td>ul. Bukowa 64</td>\n",
       "    </tr>\n",
       "    <tr>\n",
       "      <th>1</th>\n",
       "      <td>103</td>\n",
       "      <td>Tomasz Elwart</td>\n",
       "      <td>Gdynia</td>\n",
       "      <td>ul. Bałtycka 29</td>\n",
       "    </tr>\n",
       "    <tr>\n",
       "      <th>2</th>\n",
       "      <td>104</td>\n",
       "      <td>Jakub Machowiak</td>\n",
       "      <td>Poznań</td>\n",
       "      <td>pl. Nałkowskiej 64/51</td>\n",
       "    </tr>\n",
       "    <tr>\n",
       "      <th>3</th>\n",
       "      <td>105</td>\n",
       "      <td>Jan Kaziród</td>\n",
       "      <td>Wrocław</td>\n",
       "      <td>plac Borowa 70</td>\n",
       "    </tr>\n",
       "    <tr>\n",
       "      <th>4</th>\n",
       "      <td>106</td>\n",
       "      <td>Adrianna Pera</td>\n",
       "      <td>Radom</td>\n",
       "      <td>aleja Wiązowa 30/27</td>\n",
       "    </tr>\n",
       "  </tbody>\n",
       "</table>\n",
       "</div>"
      ],
      "text/plain": [
       "   user_id             name     city                 street\n",
       "0      102  Ernest Zacharek    Radom          ul. Bukowa 64\n",
       "1      103    Tomasz Elwart   Gdynia        ul. Bałtycka 29\n",
       "2      104  Jakub Machowiak   Poznań  pl. Nałkowskiej 64/51\n",
       "3      105      Jan Kaziród  Wrocław         plac Borowa 70\n",
       "4      106    Adrianna Pera    Radom    aleja Wiązowa 30/27"
      ]
     },
     "execution_count": 255,
     "metadata": {},
     "output_type": "execute_result"
    }
   ],
   "source": [
    "usersDF.head(n=5)"
   ]
  },
  {
   "cell_type": "markdown",
   "metadata": {},
   "source": [
    "Rekord użytkownika zawiera pola user_id, name, city, street"
   ]
  },
  {
   "cell_type": "code",
   "execution_count": 256,
   "metadata": {},
   "outputs": [
    {
     "name": "stdout",
     "output_type": "stream",
     "text": [
      "<class 'pandas.core.frame.DataFrame'>\n",
      "RangeIndex: 200 entries, 0 to 199\n",
      "Data columns (total 4 columns):\n",
      " #   Column   Non-Null Count  Dtype \n",
      "---  ------   --------------  ----- \n",
      " 0   user_id  200 non-null    int64 \n",
      " 1   name     200 non-null    object\n",
      " 2   city     200 non-null    object\n",
      " 3   street   200 non-null    object\n",
      "dtypes: int64(1), object(3)\n",
      "memory usage: 6.4+ KB\n"
     ]
    }
   ],
   "source": [
    "usersDF.info()"
   ]
  },
  {
   "cell_type": "markdown",
   "metadata": {},
   "source": [
    "Brak pustych pól w zbiorze użytkowników."
   ]
  },
  {
   "cell_type": "markdown",
   "metadata": {},
   "source": [
    "Analiza **user_id**"
   ]
  },
  {
   "cell_type": "code",
   "execution_count": 257,
   "metadata": {},
   "outputs": [
    {
     "name": "stdout",
     "output_type": "stream",
     "text": [
      "max id : 301\n",
      "min id : 102\n",
      "unique ids : 200/200\n"
     ]
    }
   ],
   "source": [
    "print('max id : {}'.format(usersDF['user_id'].max()))\n",
    "print('min id : {}'.format(usersDF['user_id'].min()))\n",
    "print('unique ids : {}/{}'.format(usersDF['user_id'].nunique(), usersDF['user_id'].size))"
   ]
  },
  {
   "cell_type": "markdown",
   "metadata": {},
   "source": [
    "Id są z liczbami całkowitymi z przedziału [102, 301]. Nie mam żadnych duplikatów. Jeżeli nazwy użytkowników będą unikalne będziemy mieć pewność, że nie mamy niejednoznaczności dotyczącej użytkownika."
   ]
  },
  {
   "cell_type": "code",
   "execution_count": 258,
   "metadata": {},
   "outputs": [
    {
     "name": "stdout",
     "output_type": "stream",
     "text": [
      "unique names : 199/200\n"
     ]
    }
   ],
   "source": [
    "print('unique names : {}/{}'.format(usersDF['name'].nunique(), usersDF['user_id'].size))"
   ]
  },
  {
   "cell_type": "code",
   "execution_count": 259,
   "metadata": {},
   "outputs": [
    {
     "data": {
      "text/html": [
       "<div>\n",
       "<style scoped>\n",
       "    .dataframe tbody tr th:only-of-type {\n",
       "        vertical-align: middle;\n",
       "    }\n",
       "\n",
       "    .dataframe tbody tr th {\n",
       "        vertical-align: top;\n",
       "    }\n",
       "\n",
       "    .dataframe thead th {\n",
       "        text-align: right;\n",
       "    }\n",
       "</style>\n",
       "<table border=\"1\" class=\"dataframe\">\n",
       "  <thead>\n",
       "    <tr style=\"text-align: right;\">\n",
       "      <th></th>\n",
       "      <th>user_id</th>\n",
       "      <th>name</th>\n",
       "      <th>city</th>\n",
       "      <th>street</th>\n",
       "    </tr>\n",
       "  </thead>\n",
       "  <tbody>\n",
       "    <tr>\n",
       "      <th>102</th>\n",
       "      <td>204</td>\n",
       "      <td>Fryderyk Pospiech</td>\n",
       "      <td>Radom</td>\n",
       "      <td>al. Piastowska 50</td>\n",
       "    </tr>\n",
       "    <tr>\n",
       "      <th>158</th>\n",
       "      <td>260</td>\n",
       "      <td>Fryderyk Pospiech</td>\n",
       "      <td>Wrocław</td>\n",
       "      <td>pl. Akacjowa 25</td>\n",
       "    </tr>\n",
       "  </tbody>\n",
       "</table>\n",
       "</div>"
      ],
      "text/plain": [
       "     user_id               name     city             street\n",
       "102      204  Fryderyk Pospiech    Radom  al. Piastowska 50\n",
       "158      260  Fryderyk Pospiech  Wrocław    pl. Akacjowa 25"
      ]
     },
     "execution_count": 259,
     "metadata": {},
     "output_type": "execute_result"
    }
   ],
   "source": [
    "usersDF[usersDF['name'].duplicated(keep=False)]"
   ]
  },
  {
   "cell_type": "markdown",
   "metadata": {},
   "source": [
    "Imiona nie są unikatowe. Wygląda na to, że klient pozwala na zakładanie wielu kont dla jednej osoby.\n",
    "Wydaje się, że nie jest to problemem, warto również wspomnieć, że wartość name raczej nie będzie użyteczna w procesie trenowania modelu."
   ]
  },
  {
   "cell_type": "markdown",
   "metadata": {},
   "source": [
    "Analiza **city**"
   ]
  },
  {
   "cell_type": "markdown",
   "metadata": {},
   "source": [
    "Warto sprawdzić, czy użytkownicy są reprezentatwyną grupą w kontekście działalności obszaru działalności klienta. Chcielibyśmy by model działał poprawnie dla wszystkich, miast w których operuje ESzopping, więc liczymy na to, że użytkownicy będą rozłożeni w równolicznych grupach."
   ]
  },
  {
   "cell_type": "code",
   "execution_count": 260,
   "metadata": {},
   "outputs": [
    {
     "data": {
      "text/plain": [
       "<seaborn.axisgrid.FacetGrid at 0x19f2d60bcd0>"
      ]
     },
     "execution_count": 260,
     "metadata": {},
     "output_type": "execute_result"
    },
    {
     "data": {
      "image/png": "[encoded data removed]",
      "text/plain": [
       "<Figure size 720x720 with 1 Axes>"
      ]
     },
     "metadata": {
      "needs_background": "light"
     },
     "output_type": "display_data"
    }
   ],
   "source": [
    "sbn.catplot(data=usersDF, kind='count', x='city', height=10)"
   ]
  },
  {
   "cell_type": "markdown",
   "metadata": {},
   "source": [
    "Pomijając delikatną przewagę Warszawy i Krakowa mad resztą 'stawki', nie widzimy poważnych niereguralności w mieście zamieszkania użytkowników.\n",
    " "
   ]
  },
  {
   "cell_type": "markdown",
   "metadata": {},
   "source": [
    "Analiza **street**"
   ]
  },
  {
   "cell_type": "code",
   "execution_count": 261,
   "metadata": {},
   "outputs": [
    {
     "name": "stdout",
     "output_type": "stream",
     "text": [
      "unique streets : 200/200\n"
     ]
    }
   ],
   "source": [
    "print('unique streets : {}/{}'.format(usersDF['street'].nunique(), usersDF['user_id'].size))"
   ]
  },
  {
   "cell_type": "markdown",
   "metadata": {},
   "source": [
    "Wszystkie nazwy ulic są unikatowe.\n",
    "\n",
    "Możliwe, że powinniśmy zrzutować konkretne adresy na coś bardziej ogólnego, pokrywającego większy obszar, np. dzielnicę.\n",
    "Przydałoby się również geograficzne położenie stacji nadawczych firm kurierskich. Niestety, prawdopodobnie nie będziemy dysponować\n",
    "takimi danymi. Zastosowanie takiego rzutowania może sprawić, że model będzie bardziej elastyczny.\n",
    "\n",
    "\n",
    "Niemniej jednak, **street** i **city** będą ważnymi atrybutami dla naszego modelu. Nie trudno się domyśleć, że adres doręczenia przesyłki będzie grał ważną rolę przy predykcji."
   ]
  },
  {
   "cell_type": "markdown",
   "metadata": {},
   "source": [
    "## Analiza zakupów"
   ]
  },
  {
   "cell_type": "code",
   "execution_count": 262,
   "metadata": {},
   "outputs": [
    {
     "name": "stdout",
     "output_type": "stream",
     "text": [
      "<class 'pandas.core.frame.DataFrame'>\n",
      "RangeIndex: 7031 entries, 0 to 7030\n",
      "Data columns (total 4 columns):\n",
      " #   Column              Non-Null Count  Dtype \n",
      "---  ------              --------------  ----- \n",
      " 0   purchase_id         7031 non-null   int64 \n",
      " 1   purchase_timestamp  7031 non-null   object\n",
      " 2   delivery_timestamp  7031 non-null   object\n",
      " 3   delivery_company    7031 non-null   int64 \n",
      "dtypes: int64(2), object(2)\n",
      "memory usage: 219.8+ KB\n"
     ]
    }
   ],
   "source": [
    "purchasesDF.info()"
   ]
  },
  {
   "cell_type": "markdown",
   "metadata": {},
   "source": [
    "Rekordy są kompletne.\n",
    "Sprawdźmy jakie dane są zapisane w rekordach."
   ]
  },
  {
   "cell_type": "code",
   "execution_count": 263,
   "metadata": {},
   "outputs": [
    {
     "data": {
      "text/html": [
       "<div>\n",
       "<style scoped>\n",
       "    .dataframe tbody tr th:only-of-type {\n",
       "        vertical-align: middle;\n",
       "    }\n",
       "\n",
       "    .dataframe tbody tr th {\n",
       "        vertical-align: top;\n",
       "    }\n",
       "\n",
       "    .dataframe thead th {\n",
       "        text-align: right;\n",
       "    }\n",
       "</style>\n",
       "<table border=\"1\" class=\"dataframe\">\n",
       "  <thead>\n",
       "    <tr style=\"text-align: right;\">\n",
       "      <th></th>\n",
       "      <th>purchase_id</th>\n",
       "      <th>purchase_timestamp</th>\n",
       "      <th>delivery_timestamp</th>\n",
       "      <th>delivery_company</th>\n",
       "    </tr>\n",
       "  </thead>\n",
       "  <tbody>\n",
       "    <tr>\n",
       "      <th>0</th>\n",
       "      <td>20001</td>\n",
       "      <td>2021-09-20T14:30:28</td>\n",
       "      <td>2021-09-22T08:36:20.150497</td>\n",
       "      <td>360</td>\n",
       "    </tr>\n",
       "    <tr>\n",
       "      <th>1</th>\n",
       "      <td>20002</td>\n",
       "      <td>2021-03-05T13:27:41</td>\n",
       "      <td>2021-03-08T08:00:32.317562</td>\n",
       "      <td>620</td>\n",
       "    </tr>\n",
       "    <tr>\n",
       "      <th>2</th>\n",
       "      <td>20003</td>\n",
       "      <td>2021-07-28T13:44:26</td>\n",
       "      <td>2021-07-30T12:01:54.224889</td>\n",
       "      <td>360</td>\n",
       "    </tr>\n",
       "    <tr>\n",
       "      <th>3</th>\n",
       "      <td>20004</td>\n",
       "      <td>2021-09-01T18:54:49</td>\n",
       "      <td>2021-09-03T08:09:57.431414</td>\n",
       "      <td>360</td>\n",
       "    </tr>\n",
       "    <tr>\n",
       "      <th>4</th>\n",
       "      <td>20005</td>\n",
       "      <td>2021-09-11T12:33:54</td>\n",
       "      <td>2021-09-13T08:42:19.687349</td>\n",
       "      <td>360</td>\n",
       "    </tr>\n",
       "  </tbody>\n",
       "</table>\n",
       "</div>"
      ],
      "text/plain": [
       "   purchase_id   purchase_timestamp          delivery_timestamp  \\\n",
       "0        20001  2021-09-20T14:30:28  2021-09-22T08:36:20.150497   \n",
       "1        20002  2021-03-05T13:27:41  2021-03-08T08:00:32.317562   \n",
       "2        20003  2021-07-28T13:44:26  2021-07-30T12:01:54.224889   \n",
       "3        20004  2021-09-01T18:54:49  2021-09-03T08:09:57.431414   \n",
       "4        20005  2021-09-11T12:33:54  2021-09-13T08:42:19.687349   \n",
       "\n",
       "   delivery_company  \n",
       "0               360  \n",
       "1               620  \n",
       "2               360  \n",
       "3               360  \n",
       "4               360  "
      ]
     },
     "execution_count": 263,
     "metadata": {},
     "output_type": "execute_result"
    }
   ],
   "source": [
    "purchasesDF.head(n=5)"
   ]
  },
  {
   "cell_type": "markdown",
   "metadata": {},
   "source": [
    "Atrybuty **purchase_id** oraz **delivery_company** są identyfikatorami, więc łatwo będzie je przeanalizować.\n",
    "**purchase_timestamp** i **delivery_timestamp**, a wręcz ich różnica będzie przedmiotem predykcji, więc warto będzie przyjrzeć się tym atrybutom trochę bliżej."
   ]
  },
  {
   "cell_type": "markdown",
   "metadata": {},
   "source": [
    "Analiza **purchase_id**"
   ]
  },
  {
   "cell_type": "code",
   "execution_count": 264,
   "metadata": {},
   "outputs": [
    {
     "name": "stdout",
     "output_type": "stream",
     "text": [
      "max id : 27031\n",
      "min id : 20001\n",
      "unique ids : 7031/7031\n"
     ]
    }
   ],
   "source": [
    "print('max id : {}'.format(purchasesDF['purchase_id'].max()))\n",
    "print('min id : {}'.format(purchasesDF['purchase_id'].min()))\n",
    "print('unique ids : {}/{}'.format(purchasesDF['purchase_id'].nunique(), purchasesDF['purchase_id'].size))"
   ]
  },
  {
   "cell_type": "markdown",
   "metadata": {},
   "source": [
    "Id są unikatowe oraz w pełni pokrywają przedział [20001, 27031]."
   ]
  },
  {
   "cell_type": "markdown",
   "metadata": {},
   "source": [
    "Analiza **delivery_company**"
   ]
  },
  {
   "cell_type": "code",
   "execution_count": 265,
   "metadata": {},
   "outputs": [
    {
     "name": "stdout",
     "output_type": "stream",
     "text": [
      "max id : 620\n",
      "min id : 360\n",
      "unique ids : 3/7031\n"
     ]
    }
   ],
   "source": [
    "print('max id : {}'.format(purchasesDF['delivery_company'].max()))\n",
    "print('min id : {}'.format(purchasesDF['delivery_company'].min()))\n",
    "print('unique ids : {}/{}'.format(purchasesDF['delivery_company'].nunique(), purchasesDF['purchase_id'].size))"
   ]
  },
  {
   "cell_type": "markdown",
   "metadata": {},
   "source": [
    "Widzimy, że ESzopping współpracuje jedynie z 3 firmami kurierskimi."
   ]
  },
  {
   "cell_type": "code",
   "execution_count": 266,
   "metadata": {},
   "outputs": [
    {
     "data": {
      "text/plain": [
       "<seaborn.axisgrid.FacetGrid at 0x19f3bbe30d0>"
      ]
     },
     "execution_count": 266,
     "metadata": {},
     "output_type": "execute_result"
    },
    {
     "data": {
      "image/png": "[encoded data removed]",
      "text/plain": [
       "<Figure size 576x576 with 1 Axes>"
      ]
     },
     "metadata": {
      "needs_background": "light"
     },
     "output_type": "display_data"
    }
   ],
   "source": [
    "sbn.catplot(data=purchasesDF, kind='count', x='delivery_company', height=8)"
   ]
  },
  {
   "cell_type": "markdown",
   "metadata": {},
   "source": [
    "Na podstawie powyższego histogramu widzimy, że firmy maja praktycznie idenyczne obciążenie. Jest to przesłanka za tym, że dane są reprezentatywne, warto by sprawdzić, czy również w obrębie poszczególnych miast sytuacja wygląda tak samo. To sprawdzenie odroczymy do czasu scalenia danych."
   ]
  },
  {
   "cell_type": "markdown",
   "metadata": {},
   "source": [
    "![alt text](images/krakow-firmy.png \"Kraków\")  ![alt text](images/wroclaw-firmy.png \"Wrocław\")  \n",
    "![alt text](images/gdynia-firmy.png \"Gdynia\")  ![alt text](images/warszawa-firmy.png \"Warszawa\")  "
   ]
  },
  {
   "cell_type": "markdown",
   "metadata": {},
   "source": [
    "Sprawdziliśmy, czy obciążenie firm w zależności od miasta jest równe. Okazuje się, że tak. (Wykresy, tylko dla wybranych miast, dla przejrzystości.)"
   ]
  },
  {
   "cell_type": "markdown",
   "metadata": {},
   "source": [
    "Analiza **delivery_timestamp**, **purchase_timestamp**"
   ]
  },
  {
   "cell_type": "markdown",
   "metadata": {},
   "source": [
    "Dodamy nowe pole informacyjne **delivery_time** będące różnicą **purchase_timestamp** i **delivery_timestamp**, **week_day** informujący o dniu tygodnia [0, 6] oraz **purchase_week_day_plus_hour** przedstawiający \"godzinę tygodnia\" liczoną od poniedziałku 0:00"
   ]
  },
  {
   "cell_type": "code",
   "execution_count": 267,
   "metadata": {},
   "outputs": [
    {
     "data": {
      "text/html": [
       "<div>\n",
       "<style scoped>\n",
       "    .dataframe tbody tr th:only-of-type {\n",
       "        vertical-align: middle;\n",
       "    }\n",
       "\n",
       "    .dataframe tbody tr th {\n",
       "        vertical-align: top;\n",
       "    }\n",
       "\n",
       "    .dataframe thead th {\n",
       "        text-align: right;\n",
       "    }\n",
       "</style>\n",
       "<table border=\"1\" class=\"dataframe\">\n",
       "  <thead>\n",
       "    <tr style=\"text-align: right;\">\n",
       "      <th></th>\n",
       "      <th>purchase_id</th>\n",
       "      <th>purchase_timestamp</th>\n",
       "      <th>delivery_timestamp</th>\n",
       "      <th>delivery_company</th>\n",
       "      <th>delivery_time</th>\n",
       "      <th>week_day</th>\n",
       "      <th>purchase_week_day_plus_hour</th>\n",
       "    </tr>\n",
       "  </thead>\n",
       "  <tbody>\n",
       "    <tr>\n",
       "      <th>0</th>\n",
       "      <td>20001</td>\n",
       "      <td>2021-09-20T14:30:28</td>\n",
       "      <td>2021-09-22T08:36:20.150497</td>\n",
       "      <td>360</td>\n",
       "      <td>42.097778</td>\n",
       "      <td>0</td>\n",
       "      <td>14</td>\n",
       "    </tr>\n",
       "    <tr>\n",
       "      <th>1</th>\n",
       "      <td>20002</td>\n",
       "      <td>2021-03-05T13:27:41</td>\n",
       "      <td>2021-03-08T08:00:32.317562</td>\n",
       "      <td>620</td>\n",
       "      <td>66.547500</td>\n",
       "      <td>4</td>\n",
       "      <td>109</td>\n",
       "    </tr>\n",
       "    <tr>\n",
       "      <th>2</th>\n",
       "      <td>20003</td>\n",
       "      <td>2021-07-28T13:44:26</td>\n",
       "      <td>2021-07-30T12:01:54.224889</td>\n",
       "      <td>360</td>\n",
       "      <td>46.291111</td>\n",
       "      <td>2</td>\n",
       "      <td>61</td>\n",
       "    </tr>\n",
       "    <tr>\n",
       "      <th>3</th>\n",
       "      <td>20004</td>\n",
       "      <td>2021-09-01T18:54:49</td>\n",
       "      <td>2021-09-03T08:09:57.431414</td>\n",
       "      <td>360</td>\n",
       "      <td>37.252222</td>\n",
       "      <td>2</td>\n",
       "      <td>66</td>\n",
       "    </tr>\n",
       "    <tr>\n",
       "      <th>4</th>\n",
       "      <td>20005</td>\n",
       "      <td>2021-09-11T12:33:54</td>\n",
       "      <td>2021-09-13T08:42:19.687349</td>\n",
       "      <td>360</td>\n",
       "      <td>44.140278</td>\n",
       "      <td>5</td>\n",
       "      <td>132</td>\n",
       "    </tr>\n",
       "  </tbody>\n",
       "</table>\n",
       "</div>"
      ],
      "text/plain": [
       "   purchase_id   purchase_timestamp          delivery_timestamp  \\\n",
       "0        20001  2021-09-20T14:30:28  2021-09-22T08:36:20.150497   \n",
       "1        20002  2021-03-05T13:27:41  2021-03-08T08:00:32.317562   \n",
       "2        20003  2021-07-28T13:44:26  2021-07-30T12:01:54.224889   \n",
       "3        20004  2021-09-01T18:54:49  2021-09-03T08:09:57.431414   \n",
       "4        20005  2021-09-11T12:33:54  2021-09-13T08:42:19.687349   \n",
       "\n",
       "   delivery_company  delivery_time  week_day  purchase_week_day_plus_hour  \n",
       "0               360      42.097778         0                           14  \n",
       "1               620      66.547500         4                          109  \n",
       "2               360      46.291111         2                           61  \n",
       "3               360      37.252222         2                           66  \n",
       "4               360      44.140278         5                          132  "
      ]
     },
     "execution_count": 267,
     "metadata": {},
     "output_type": "execute_result"
    }
   ],
   "source": [
    "import dateutil.parser as dt\n",
    "delivery_time = [0 for i in range(0, len(purchasesDF.index))]\n",
    "week_day = [0 for i in range(0, len(purchasesDF.index))]\n",
    "purchase_week_day_plus_hour = [0 for i in range(0, len(purchasesDF.index))]\n",
    "\n",
    "for index, row in purchasesDF.iterrows():\n",
    "    end = row['delivery_timestamp']\n",
    "    beg = row['purchase_timestamp']\n",
    "    \n",
    "    week_day[index] = dt.isoparse(beg).weekday()\n",
    "\n",
    "    purchase_week_day_plus_hour[index] = week_day[index]*24 + dt.isoparse(beg).hour\n",
    "    \n",
    "    time = dt.isoparse(end) - dt.isoparse(beg)\n",
    "    time = time.days * 24 + time.seconds / 3600\n",
    "    delivery_time[index] = time\n",
    "\n",
    "purchasesDF_processed = purchasesDF.copy()\n",
    "purchasesDF_processed['delivery_time'] = delivery_time\n",
    "purchasesDF_processed['week_day'] = week_day\n",
    "purchasesDF_processed['purchase_week_day_plus_hour'] = purchase_week_day_plus_hour\n",
    "\n",
    "purchasesDF_processed.head(n=5)"
   ]
  },
  {
   "cell_type": "markdown",
   "metadata": {},
   "source": [
    "Sprawdźmy, jaki jest rozkład czasu dostawy dla każdego dnia tygodnia."
   ]
  },
  {
   "cell_type": "code",
   "execution_count": 268,
   "metadata": {},
   "outputs": [
    {
     "name": "stdout",
     "output_type": "stream",
     "text": [
      "poniedziałek\n"
     ]
    },
    {
     "data": {
      "image/png": "[encoded data removed]",
      "text/plain": [
       "<Figure size 360x360 with 1 Axes>"
      ]
     },
     "metadata": {
      "needs_background": "light"
     },
     "output_type": "display_data"
    }
   ],
   "source": [
    "sbn.displot(data=purchasesDF_processed[purchasesDF_processed.week_day==0], x='delivery_time', kind='kde')\n",
    "print(\"poniedziałek\")\n"
   ]
  },
  {
   "cell_type": "code",
   "execution_count": 269,
   "metadata": {},
   "outputs": [
    {
     "name": "stdout",
     "output_type": "stream",
     "text": [
      "wtorek\n"
     ]
    },
    {
     "data": {
      "image/png": "[encoded data removed]",
      "text/plain": [
       "<Figure size 360x360 with 1 Axes>"
      ]
     },
     "metadata": {
      "needs_background": "light"
     },
     "output_type": "display_data"
    }
   ],
   "source": [
    "sbn.displot(data=purchasesDF_processed[purchasesDF_processed.week_day==1], x='delivery_time', kind='kde')\n",
    "print('wtorek')"
   ]
  },
  {
   "cell_type": "code",
   "execution_count": 270,
   "metadata": {},
   "outputs": [
    {
     "name": "stdout",
     "output_type": "stream",
     "text": [
      "środa\n"
     ]
    },
    {
     "data": {
      "image/png": "[encoded data removed]",
      "text/plain": [
       "<Figure size 360x360 with 1 Axes>"
      ]
     },
     "metadata": {
      "needs_background": "light"
     },
     "output_type": "display_data"
    }
   ],
   "source": [
    "sbn.displot(data=purchasesDF_processed[purchasesDF_processed.week_day==2], x='delivery_time', kind='kde')\n",
    "print(\"środa\")"
   ]
  },
  {
   "cell_type": "code",
   "execution_count": 271,
   "metadata": {},
   "outputs": [
    {
     "name": "stdout",
     "output_type": "stream",
     "text": [
      "czwartek\n"
     ]
    },
    {
     "data": {
      "image/png": "[encoded data removed]",
      "text/plain": [
       "<Figure size 360x360 with 1 Axes>"
      ]
     },
     "metadata": {
      "needs_background": "light"
     },
     "output_type": "display_data"
    }
   ],
   "source": [
    "sbn.displot(data=purchasesDF_processed[purchasesDF_processed.week_day==3], x='delivery_time', kind='kde')\n",
    "print(\"czwartek\")"
   ]
  },
  {
   "cell_type": "code",
   "execution_count": 272,
   "metadata": {},
   "outputs": [
    {
     "name": "stdout",
     "output_type": "stream",
     "text": [
      "piątek\n"
     ]
    },
    {
     "data": {
      "image/png": "[encoded data removed]",
      "text/plain": [
       "<Figure size 360x360 with 1 Axes>"
      ]
     },
     "metadata": {
      "needs_background": "light"
     },
     "output_type": "display_data"
    }
   ],
   "source": [
    "sbn.displot(data=purchasesDF_processed[purchasesDF_processed.week_day==4], x='delivery_time', kind='kde')\n",
    "print(\"piątek\")"
   ]
  },
  {
   "cell_type": "code",
   "execution_count": 273,
   "metadata": {},
   "outputs": [
    {
     "name": "stdout",
     "output_type": "stream",
     "text": [
      "sobota\n"
     ]
    },
    {
     "data": {
      "image/png": "[encoded data removed]",
      "text/plain": [
       "<Figure size 360x360 with 1 Axes>"
      ]
     },
     "metadata": {
      "needs_background": "light"
     },
     "output_type": "display_data"
    }
   ],
   "source": [
    "sbn.displot(data=purchasesDF_processed[purchasesDF_processed.week_day==5], x='delivery_time', kind='kde')\n",
    "print(\"sobota\")"
   ]
  },
  {
   "cell_type": "code",
   "execution_count": 274,
   "metadata": {},
   "outputs": [
    {
     "name": "stdout",
     "output_type": "stream",
     "text": [
      "niedziela\n"
     ]
    },
    {
     "data": {
      "image/png": "[encoded data removed]",
      "text/plain": [
       "<Figure size 360x360 with 1 Axes>"
      ]
     },
     "metadata": {
      "needs_background": "light"
     },
     "output_type": "display_data"
    }
   ],
   "source": [
    "sbn.displot(data=purchasesDF_processed[purchasesDF_processed.week_day==6], x='delivery_time', kind='kde')\n",
    "print(\"niedziela\")"
   ]
  },
  {
   "cell_type": "code",
   "execution_count": 275,
   "metadata": {},
   "outputs": [
    {
     "data": {
      "text/plain": [
       "Text(0.5, 1.0, 'Delivery time by day of the week (0-mon, 6-sun)')"
      ]
     },
     "execution_count": 275,
     "metadata": {},
     "output_type": "execute_result"
    },
    {
     "data": {
      "image/png": "[encoded data removed]",
      "text/plain": [
       "<Figure size 432x288 with 1 Axes>"
      ]
     },
     "metadata": {
      "needs_background": "light"
     },
     "output_type": "display_data"
    }
   ],
   "source": [
    "days_plot=sbn.violinplot(data=purchasesDF_processed, x='week_day', y='delivery_time')\n",
    "days_plot.set_title(\"Delivery time by day of the week (0-mon, 6-sun)\")"
   ]
  },
  {
   "cell_type": "markdown",
   "metadata": {},
   "source": [
    "Rozkłady żadnego z dni nie są normalne. Możemy zauważyć, że począwszy od poniedziałku 'szczyt' wykresu przesuwa się ku prawej stronie, czyli ku dłuższym czasom przesyłki.\n",
    "Może to wynikać z faktu, że weekendy zwykle nie są traktowane jako dni robocze, co przedłuża przesyłkę. Okres oczekiwania skraca się w miarę dochodzenia do końca tygodnia\n",
    "ponieważ, kończy się weekend. Warto wziąć to pod uwagę."
   ]
  },
  {
   "cell_type": "markdown",
   "metadata": {},
   "source": [
    "Analiza **purchase_week_day_plus_hour**"
   ]
  },
  {
   "cell_type": "code",
   "execution_count": 276,
   "metadata": {},
   "outputs": [
    {
     "data": {
      "text/plain": [
       "<seaborn.axisgrid.FacetGrid at 0x19f3b428f10>"
      ]
     },
     "execution_count": 276,
     "metadata": {},
     "output_type": "execute_result"
    },
    {
     "data": {
      "image/png": "[encoded data removed]",
      "text/plain": [
       "<Figure size 1656x360 with 1 Axes>"
      ]
     },
     "metadata": {
      "needs_background": "light"
     },
     "output_type": "display_data"
    }
   ],
   "source": [
    "sbn.catplot(data=purchasesDF_processed, x='purchase_week_day_plus_hour', kind='count', aspect= 4.6)"
   ]
  },
  {
   "cell_type": "markdown",
   "metadata": {},
   "source": [
    "Dane mają rozkład równomierny (zakupy są robione przez cały w każej \"godzinie tygdania\" z podobną częstotliwością)."
   ]
  },
  {
   "cell_type": "markdown",
   "metadata": {},
   "source": [
    "## Analiza sesji"
   ]
  },
  {
   "cell_type": "code",
   "execution_count": 277,
   "metadata": {},
   "outputs": [
    {
     "name": "stdout",
     "output_type": "stream",
     "text": [
      "<class 'pandas.core.frame.DataFrame'>\n",
      "RangeIndex: 37614 entries, 0 to 37613\n",
      "Data columns (total 7 columns):\n",
      " #   Column            Non-Null Count  Dtype         \n",
      "---  ------            --------------  -----         \n",
      " 0   session_id        37614 non-null  int64         \n",
      " 1   timestamp         37614 non-null  datetime64[ns]\n",
      " 2   user_id           37614 non-null  int64         \n",
      " 3   product_id        37614 non-null  int64         \n",
      " 4   event_type        37614 non-null  object        \n",
      " 5   offered_discount  37614 non-null  int64         \n",
      " 6   purchase_id       7031 non-null   float64       \n",
      "dtypes: datetime64[ns](1), float64(1), int64(4), object(1)\n",
      "memory usage: 2.0+ MB\n"
     ]
    }
   ],
   "source": [
    "sessionsDF.info()"
   ]
  },
  {
   "cell_type": "markdown",
   "metadata": {},
   "source": [
    "Dane są kompletne z wyjątkiem atrybutu **purchase_id**. Sprawdźmy, co jest tego przyczyną."
   ]
  },
  {
   "cell_type": "markdown",
   "metadata": {},
   "source": [
    "Sprawdźmy jakie wartości występują w kolumnie **event_type**."
   ]
  },
  {
   "cell_type": "code",
   "execution_count": 278,
   "metadata": {},
   "outputs": [
    {
     "data": {
      "text/plain": [
       "VIEW_PRODUCT    30583\n",
       "BUY_PRODUCT      7031\n",
       "Name: event_type, dtype: int64"
      ]
     },
     "execution_count": 278,
     "metadata": {},
     "output_type": "execute_result"
    }
   ],
   "source": [
    "sessionsDF.event_type.value_counts()"
   ]
  },
  {
   "cell_type": "markdown",
   "metadata": {},
   "source": [
    "Rekordy sesji możemy podzielić na reprezentujące akcję oglądania produktu (**VIEW_PRODUCT**) oraz zakupu (**BUY_PRODUCT**).\n",
    "Warto zauważyć, że ilość rekordów **BUY_PRODUCT** zgadza się z ilością rekordów w **purchases.jsonl**.\n",
    "Historia przeglądnia nie wpływa na czas dostawy, więc postanawiamy nie brać pod uwagę tych rekordów w dalszej części analizy."
   ]
  },
  {
   "cell_type": "code",
   "execution_count": 279,
   "metadata": {},
   "outputs": [
    {
     "data": {
      "text/html": [
       "<div>\n",
       "<style scoped>\n",
       "    .dataframe tbody tr th:only-of-type {\n",
       "        vertical-align: middle;\n",
       "    }\n",
       "\n",
       "    .dataframe tbody tr th {\n",
       "        vertical-align: top;\n",
       "    }\n",
       "\n",
       "    .dataframe thead th {\n",
       "        text-align: right;\n",
       "    }\n",
       "</style>\n",
       "<table border=\"1\" class=\"dataframe\">\n",
       "  <thead>\n",
       "    <tr style=\"text-align: right;\">\n",
       "      <th></th>\n",
       "      <th>session_id</th>\n",
       "      <th>timestamp</th>\n",
       "      <th>user_id</th>\n",
       "      <th>product_id</th>\n",
       "      <th>event_type</th>\n",
       "      <th>offered_discount</th>\n",
       "      <th>purchase_id</th>\n",
       "    </tr>\n",
       "  </thead>\n",
       "  <tbody>\n",
       "    <tr>\n",
       "      <th>1</th>\n",
       "      <td>124</td>\n",
       "      <td>2021-09-20 14:30:28</td>\n",
       "      <td>102</td>\n",
       "      <td>1318</td>\n",
       "      <td>BUY_PRODUCT</td>\n",
       "      <td>0</td>\n",
       "      <td>20001.0</td>\n",
       "    </tr>\n",
       "    <tr>\n",
       "      <th>10</th>\n",
       "      <td>126</td>\n",
       "      <td>2021-03-05 13:27:41</td>\n",
       "      <td>102</td>\n",
       "      <td>1318</td>\n",
       "      <td>BUY_PRODUCT</td>\n",
       "      <td>20</td>\n",
       "      <td>20002.0</td>\n",
       "    </tr>\n",
       "    <tr>\n",
       "      <th>15</th>\n",
       "      <td>127</td>\n",
       "      <td>2021-07-28 13:44:26</td>\n",
       "      <td>102</td>\n",
       "      <td>1081</td>\n",
       "      <td>BUY_PRODUCT</td>\n",
       "      <td>0</td>\n",
       "      <td>20003.0</td>\n",
       "    </tr>\n",
       "    <tr>\n",
       "      <th>18</th>\n",
       "      <td>128</td>\n",
       "      <td>2021-09-01 18:54:49</td>\n",
       "      <td>102</td>\n",
       "      <td>1233</td>\n",
       "      <td>BUY_PRODUCT</td>\n",
       "      <td>10</td>\n",
       "      <td>20004.0</td>\n",
       "    </tr>\n",
       "    <tr>\n",
       "      <th>28</th>\n",
       "      <td>129</td>\n",
       "      <td>2021-09-11 12:33:54</td>\n",
       "      <td>102</td>\n",
       "      <td>1030</td>\n",
       "      <td>BUY_PRODUCT</td>\n",
       "      <td>0</td>\n",
       "      <td>20005.0</td>\n",
       "    </tr>\n",
       "  </tbody>\n",
       "</table>\n",
       "</div>"
      ],
      "text/plain": [
       "    session_id           timestamp  user_id  product_id   event_type  \\\n",
       "1          124 2021-09-20 14:30:28      102        1318  BUY_PRODUCT   \n",
       "10         126 2021-03-05 13:27:41      102        1318  BUY_PRODUCT   \n",
       "15         127 2021-07-28 13:44:26      102        1081  BUY_PRODUCT   \n",
       "18         128 2021-09-01 18:54:49      102        1233  BUY_PRODUCT   \n",
       "28         129 2021-09-11 12:33:54      102        1030  BUY_PRODUCT   \n",
       "\n",
       "    offered_discount  purchase_id  \n",
       "1                  0      20001.0  \n",
       "10                20      20002.0  \n",
       "15                 0      20003.0  \n",
       "18                10      20004.0  \n",
       "28                 0      20005.0  "
      ]
     },
     "execution_count": 279,
     "metadata": {},
     "output_type": "execute_result"
    }
   ],
   "source": [
    "sessionsDF_processed = sessionsDF[sessionsDF.event_type == 'BUY_PRODUCT']\n",
    "\n",
    "sessionsDF_processed.head(n=5)"
   ]
  },
  {
   "cell_type": "markdown",
   "metadata": {},
   "source": [
    "Analiza **session_id**"
   ]
  },
  {
   "cell_type": "code",
   "execution_count": 280,
   "metadata": {},
   "outputs": [
    {
     "name": "stdout",
     "output_type": "stream",
     "text": [
      "max id : 10015\n",
      "min id : 124\n",
      "unique ids : 7031/7031\n"
     ]
    }
   ],
   "source": [
    "print('max id : {}'.format(sessionsDF_processed['session_id'].max()))\n",
    "print('min id : {}'.format(sessionsDF_processed['session_id'].min()))\n",
    "print('unique ids : {}/{}'.format(sessionsDF_processed['session_id'].nunique(), sessionsDF_processed['session_id'].size))"
   ]
  },
  {
   "cell_type": "markdown",
   "metadata": {},
   "source": [
    "Brak duplikatów id, oznacza to, że w ciągu każdej sesji zakupiono tylko jeden produkt."
   ]
  },
  {
   "cell_type": "markdown",
   "metadata": {},
   "source": [
    "**user_id**, **product_id**, **purchase_id**  zostały już przeanalizowane wcześniej. Zgodność między poszczególnymi id w różnych plikach będziemy mogli sprawdzić po scaleniu pików w jeden zaagregowany zbiór danych. Jeżeli zastosujemy inner join, zostaną wycięte te rekordy, które nie mają odpowiadających rekordów w zbiorze z którym  się skleja. Będzie to oznaczać, że zbiory danych nie były ze sobą spójne.\n",
    "\n",
    "**offered_discout** nie wydaje się być niezbędnym atrybutem dla naszego modelu, więc pomijamy jego  analizę."
   ]
  },
  {
   "cell_type": "markdown",
   "metadata": {},
   "source": [
    "**timestamp** porównamy z polem **purchase_timestap** po scaleniu.\n",
    "Ale przed tym sprawdzimy, jak rozłożone w czasie są operacje **BUY_PRODUCT**."
   ]
  },
  {
   "cell_type": "code",
   "execution_count": 281,
   "metadata": {},
   "outputs": [
    {
     "name": "stdout",
     "output_type": "stream",
     "text": [
      "distinct days with a purchase : 300\n"
     ]
    }
   ],
   "source": [
    "groupDays = sessionsDF_processed.groupby(pd.Grouper(key='timestamp', sort=True, freq='1D', axis=0))\n",
    "\n",
    "print(\"distinct days with a purchase : {}\".format(len(groupDays.count())))"
   ]
  },
  {
   "cell_type": "markdown",
   "metadata": {},
   "source": [
    "Pierwszy dzień \"zakupów\""
   ]
  },
  {
   "cell_type": "code",
   "execution_count": 282,
   "metadata": {},
   "outputs": [
    {
     "data": {
      "text/html": [
       "<div>\n",
       "<style scoped>\n",
       "    .dataframe tbody tr th:only-of-type {\n",
       "        vertical-align: middle;\n",
       "    }\n",
       "\n",
       "    .dataframe tbody tr th {\n",
       "        vertical-align: top;\n",
       "    }\n",
       "\n",
       "    .dataframe thead th {\n",
       "        text-align: right;\n",
       "    }\n",
       "</style>\n",
       "<table border=\"1\" class=\"dataframe\">\n",
       "  <thead>\n",
       "    <tr style=\"text-align: right;\">\n",
       "      <th></th>\n",
       "      <th>session_id</th>\n",
       "      <th>user_id</th>\n",
       "      <th>product_id</th>\n",
       "      <th>event_type</th>\n",
       "      <th>offered_discount</th>\n",
       "      <th>purchase_id</th>\n",
       "    </tr>\n",
       "    <tr>\n",
       "      <th>timestamp</th>\n",
       "      <th></th>\n",
       "      <th></th>\n",
       "      <th></th>\n",
       "      <th></th>\n",
       "      <th></th>\n",
       "      <th></th>\n",
       "    </tr>\n",
       "  </thead>\n",
       "  <tbody>\n",
       "    <tr>\n",
       "      <th>2021-01-01</th>\n",
       "      <td>26</td>\n",
       "      <td>26</td>\n",
       "      <td>26</td>\n",
       "      <td>26</td>\n",
       "      <td>26</td>\n",
       "      <td>26</td>\n",
       "    </tr>\n",
       "  </tbody>\n",
       "</table>\n",
       "</div>"
      ],
      "text/plain": [
       "            session_id  user_id  product_id  event_type  offered_discount  \\\n",
       "timestamp                                                                   \n",
       "2021-01-01          26       26          26          26                26   \n",
       "\n",
       "            purchase_id  \n",
       "timestamp                \n",
       "2021-01-01           26  "
      ]
     },
     "execution_count": 282,
     "metadata": {},
     "output_type": "execute_result"
    }
   ],
   "source": [
    "groupDays.count().head(n=1).head(n=1)\n"
   ]
  },
  {
   "cell_type": "markdown",
   "metadata": {},
   "source": [
    "Ostatni dzień \"zakupów\""
   ]
  },
  {
   "cell_type": "code",
   "execution_count": 283,
   "metadata": {},
   "outputs": [
    {
     "data": {
      "text/html": [
       "<div>\n",
       "<style scoped>\n",
       "    .dataframe tbody tr th:only-of-type {\n",
       "        vertical-align: middle;\n",
       "    }\n",
       "\n",
       "    .dataframe tbody tr th {\n",
       "        vertical-align: top;\n",
       "    }\n",
       "\n",
       "    .dataframe thead th {\n",
       "        text-align: right;\n",
       "    }\n",
       "</style>\n",
       "<table border=\"1\" class=\"dataframe\">\n",
       "  <thead>\n",
       "    <tr style=\"text-align: right;\">\n",
       "      <th></th>\n",
       "      <th>session_id</th>\n",
       "      <th>user_id</th>\n",
       "      <th>product_id</th>\n",
       "      <th>event_type</th>\n",
       "      <th>offered_discount</th>\n",
       "      <th>purchase_id</th>\n",
       "    </tr>\n",
       "    <tr>\n",
       "      <th>timestamp</th>\n",
       "      <th></th>\n",
       "      <th></th>\n",
       "      <th></th>\n",
       "      <th></th>\n",
       "      <th></th>\n",
       "      <th></th>\n",
       "    </tr>\n",
       "  </thead>\n",
       "  <tbody>\n",
       "    <tr>\n",
       "      <th>2021-10-27</th>\n",
       "      <td>23</td>\n",
       "      <td>23</td>\n",
       "      <td>23</td>\n",
       "      <td>23</td>\n",
       "      <td>23</td>\n",
       "      <td>23</td>\n",
       "    </tr>\n",
       "  </tbody>\n",
       "</table>\n",
       "</div>"
      ],
      "text/plain": [
       "            session_id  user_id  product_id  event_type  offered_discount  \\\n",
       "timestamp                                                                   \n",
       "2021-10-27          23       23          23          23                23   \n",
       "\n",
       "            purchase_id  \n",
       "timestamp                \n",
       "2021-10-27           23  "
      ]
     },
     "execution_count": 283,
     "metadata": {},
     "output_type": "execute_result"
    }
   ],
   "source": [
    "groupDays.count().tail(n=1)"
   ]
  },
  {
   "cell_type": "markdown",
   "metadata": {},
   "source": [
    "Z tego grupowania wynika, że zakupy dane pokrywaja okres od 2021-01-01 do 2021-10-27.\n",
    "Na obecną chwilę brakuje informacji o zakupach wykonywanych w listopadzie i grudniu. "
   ]
  },
  {
   "cell_type": "markdown",
   "metadata": {},
   "source": [
    "## Scalenie danych"
   ]
  },
  {
   "cell_type": "code",
   "execution_count": 284,
   "metadata": {},
   "outputs": [
    {
     "data": {
      "text/html": [
       "<div>\n",
       "<style scoped>\n",
       "    .dataframe tbody tr th:only-of-type {\n",
       "        vertical-align: middle;\n",
       "    }\n",
       "\n",
       "    .dataframe tbody tr th {\n",
       "        vertical-align: top;\n",
       "    }\n",
       "\n",
       "    .dataframe thead th {\n",
       "        text-align: right;\n",
       "    }\n",
       "</style>\n",
       "<table border=\"1\" class=\"dataframe\">\n",
       "  <thead>\n",
       "    <tr style=\"text-align: right;\">\n",
       "      <th></th>\n",
       "      <th>session_id</th>\n",
       "      <th>timestamp</th>\n",
       "      <th>user_id</th>\n",
       "      <th>product_id</th>\n",
       "      <th>event_type</th>\n",
       "      <th>offered_discount</th>\n",
       "      <th>purchase_id</th>\n",
       "      <th>name</th>\n",
       "      <th>city</th>\n",
       "      <th>street</th>\n",
       "      <th>product_name</th>\n",
       "      <th>category_path</th>\n",
       "      <th>price</th>\n",
       "      <th>purchase_timestamp</th>\n",
       "      <th>delivery_timestamp</th>\n",
       "      <th>delivery_company</th>\n",
       "      <th>delivery_time</th>\n",
       "      <th>week_day</th>\n",
       "      <th>purchase_week_day_plus_hour</th>\n",
       "    </tr>\n",
       "  </thead>\n",
       "  <tbody>\n",
       "    <tr>\n",
       "      <th>0</th>\n",
       "      <td>124</td>\n",
       "      <td>2021-09-20 14:30:28</td>\n",
       "      <td>102</td>\n",
       "      <td>1318</td>\n",
       "      <td>BUY_PRODUCT</td>\n",
       "      <td>0</td>\n",
       "      <td>20001.0</td>\n",
       "      <td>Ernest Zacharek</td>\n",
       "      <td>Radom</td>\n",
       "      <td>ul. Bukowa 64</td>\n",
       "      <td>Plantronics Savi W710</td>\n",
       "      <td>Sprzęt RTV</td>\n",
       "      <td>553.0</td>\n",
       "      <td>2021-09-20T14:30:28</td>\n",
       "      <td>2021-09-22T08:36:20.150497</td>\n",
       "      <td>360</td>\n",
       "      <td>42.097778</td>\n",
       "      <td>0</td>\n",
       "      <td>14</td>\n",
       "    </tr>\n",
       "    <tr>\n",
       "      <th>1</th>\n",
       "      <td>126</td>\n",
       "      <td>2021-03-05 13:27:41</td>\n",
       "      <td>102</td>\n",
       "      <td>1318</td>\n",
       "      <td>BUY_PRODUCT</td>\n",
       "      <td>20</td>\n",
       "      <td>20002.0</td>\n",
       "      <td>Ernest Zacharek</td>\n",
       "      <td>Radom</td>\n",
       "      <td>ul. Bukowa 64</td>\n",
       "      <td>Plantronics Savi W710</td>\n",
       "      <td>Sprzęt RTV</td>\n",
       "      <td>553.0</td>\n",
       "      <td>2021-03-05T13:27:41</td>\n",
       "      <td>2021-03-08T08:00:32.317562</td>\n",
       "      <td>620</td>\n",
       "      <td>66.547500</td>\n",
       "      <td>4</td>\n",
       "      <td>109</td>\n",
       "    </tr>\n",
       "  </tbody>\n",
       "</table>\n",
       "</div>"
      ],
      "text/plain": [
       "   session_id           timestamp  user_id  product_id   event_type  \\\n",
       "0         124 2021-09-20 14:30:28      102        1318  BUY_PRODUCT   \n",
       "1         126 2021-03-05 13:27:41      102        1318  BUY_PRODUCT   \n",
       "\n",
       "   offered_discount  purchase_id             name   city         street  \\\n",
       "0                 0      20001.0  Ernest Zacharek  Radom  ul. Bukowa 64   \n",
       "1                20      20002.0  Ernest Zacharek  Radom  ul. Bukowa 64   \n",
       "\n",
       "            product_name category_path  price   purchase_timestamp  \\\n",
       "0  Plantronics Savi W710    Sprzęt RTV  553.0  2021-09-20T14:30:28   \n",
       "1  Plantronics Savi W710    Sprzęt RTV  553.0  2021-03-05T13:27:41   \n",
       "\n",
       "           delivery_timestamp  delivery_company  delivery_time  week_day  \\\n",
       "0  2021-09-22T08:36:20.150497               360      42.097778         0   \n",
       "1  2021-03-08T08:00:32.317562               620      66.547500         4   \n",
       "\n",
       "   purchase_week_day_plus_hour  \n",
       "0                           14  \n",
       "1                          109  "
      ]
     },
     "execution_count": 284,
     "metadata": {},
     "output_type": "execute_result"
    }
   ],
   "source": [
    "aggregatedDF = pd.merge(sessionsDF_processed, usersDF, how='inner', on='user_id')\n",
    "aggregatedDF = pd.merge(aggregatedDF, productsDF_processed, how='inner', on='product_id')\n",
    "aggregatedDF = pd.merge(aggregatedDF, purchasesDF_processed, how='inner', on='purchase_id')\n",
    "aggregatedDF.head(n=2)\n"
   ]
  },
  {
   "cell_type": "code",
   "execution_count": 285,
   "metadata": {},
   "outputs": [
    {
     "name": "stdout",
     "output_type": "stream",
     "text": [
      "record  after/before  merge :  7031/7031\n"
     ]
    }
   ],
   "source": [
    "print(\"record  after/before  merge :  {}/{}\".format(len(aggregatedDF), len(sessionsDF_processed)))"
   ]
  },
  {
   "cell_type": "markdown",
   "metadata": {},
   "source": [
    "Dane są spójne."
   ]
  },
  {
   "cell_type": "code",
   "execution_count": 286,
   "metadata": {},
   "outputs": [
    {
     "name": "stdout",
     "output_type": "stream",
     "text": [
      "<class 'pandas.core.frame.DataFrame'>\n",
      "Int64Index: 7031 entries, 0 to 7030\n",
      "Data columns (total 19 columns):\n",
      " #   Column                       Non-Null Count  Dtype         \n",
      "---  ------                       --------------  -----         \n",
      " 0   session_id                   7031 non-null   int64         \n",
      " 1   timestamp                    7031 non-null   datetime64[ns]\n",
      " 2   user_id                      7031 non-null   int64         \n",
      " 3   product_id                   7031 non-null   int64         \n",
      " 4   event_type                   7031 non-null   object        \n",
      " 5   offered_discount             7031 non-null   int64         \n",
      " 6   purchase_id                  7031 non-null   float64       \n",
      " 7   name                         7031 non-null   object        \n",
      " 8   city                         7031 non-null   object        \n",
      " 9   street                       7031 non-null   object        \n",
      " 10  product_name                 7031 non-null   object        \n",
      " 11  category_path                7031 non-null   object        \n",
      " 12  price                        7031 non-null   float64       \n",
      " 13  purchase_timestamp           7031 non-null   object        \n",
      " 14  delivery_timestamp           7031 non-null   object        \n",
      " 15  delivery_company             7031 non-null   int64         \n",
      " 16  delivery_time                7031 non-null   float64       \n",
      " 17  week_day                     7031 non-null   int64         \n",
      " 18  purchase_week_day_plus_hour  7031 non-null   int64         \n",
      "dtypes: datetime64[ns](1), float64(3), int64(7), object(8)\n",
      "memory usage: 1.1+ MB\n"
     ]
    }
   ],
   "source": [
    "aggregatedDF.info()"
   ]
  },
  {
   "cell_type": "markdown",
   "metadata": {},
   "source": [
    "Mamy 17 atrybutów. Tak jak to było wcześniej wspomniane, nie wszystkie atrybuty są konieczne dla dalszej analizy.\n",
    "Powinniśmy oczścić zbiór danych."
   ]
  },
  {
   "cell_type": "markdown",
   "metadata": {},
   "source": [
    "Sprawdźmy czy **timestamp** zgadza się z  **purchase_timestamp**, a następnie pozbędziemy się kolumny **timestamp**."
   ]
  },
  {
   "cell_type": "code",
   "execution_count": 287,
   "metadata": {},
   "outputs": [
    {
     "name": "stdout",
     "output_type": "stream",
     "text": [
      "ilość nieścisłości : 0\n"
     ]
    }
   ],
   "source": [
    "inconsistences = []\n",
    "from datetime import datetime as dt\n",
    "\n",
    "for index, row in aggregatedDF.iterrows():\n",
    "    if row.timestamp.to_pydatetime() != dt.strptime(row.purchase_timestamp.replace(\"T\", \" \"), \"%Y-%m-%d %H:%M:%S\"):\n",
    "        inconsistences.append(index)\n",
    "    \n",
    "\n",
    "print(f\"ilość nieścisłości : {len(inconsistences)}\")\n"
   ]
  },
  {
   "cell_type": "markdown",
   "metadata": {},
   "source": [
    "## Oczyszczenie atrybutów\n",
    "\n",
    "Pozbędziemy się atrybutów, które naszym zdaniem nie wnoszą żadnej informacji do modelu. Uzasdnijmy nasz wybór:\n",
    "\n",
    "- wszystkie pola z sufiksem **_id** z wyjątkiem **session_id**  są indentyfikatorami, które po scaleniu danych są nieprzydatne\n",
    "- **timestamp** jest duplikatem **purchase_timestamp**\n",
    "- **offered_discount** nie powinien mieć nic wspólnego z czasem dostawy (przynajmniej tak podpowiada zdrowy rozsądek)\n",
    "- po odfiltrowaniu rekordów opisujących przeglądnie produktów **event_type** nie jest już przydatny\n",
    "- generalnie imię użytkownika nie powinno rzutować na czas dostawy, **name** wydaje się być zbędny"
   ]
  },
  {
   "cell_type": "code",
   "execution_count": 288,
   "metadata": {},
   "outputs": [
    {
     "data": {
      "text/html": [
       "<div>\n",
       "<style scoped>\n",
       "    .dataframe tbody tr th:only-of-type {\n",
       "        vertical-align: middle;\n",
       "    }\n",
       "\n",
       "    .dataframe tbody tr th {\n",
       "        vertical-align: top;\n",
       "    }\n",
       "\n",
       "    .dataframe thead th {\n",
       "        text-align: right;\n",
       "    }\n",
       "</style>\n",
       "<table border=\"1\" class=\"dataframe\">\n",
       "  <thead>\n",
       "    <tr style=\"text-align: right;\">\n",
       "      <th></th>\n",
       "      <th>session_id</th>\n",
       "      <th>user_id</th>\n",
       "      <th>city</th>\n",
       "      <th>street</th>\n",
       "      <th>product_name</th>\n",
       "      <th>category_path</th>\n",
       "      <th>price</th>\n",
       "      <th>purchase_timestamp</th>\n",
       "      <th>delivery_timestamp</th>\n",
       "      <th>delivery_company</th>\n",
       "      <th>delivery_time</th>\n",
       "      <th>week_day</th>\n",
       "      <th>purchase_week_day_plus_hour</th>\n",
       "    </tr>\n",
       "  </thead>\n",
       "  <tbody>\n",
       "    <tr>\n",
       "      <th>0</th>\n",
       "      <td>124</td>\n",
       "      <td>102</td>\n",
       "      <td>Radom</td>\n",
       "      <td>ul. Bukowa 64</td>\n",
       "      <td>Plantronics Savi W710</td>\n",
       "      <td>Sprzęt RTV</td>\n",
       "      <td>553.0</td>\n",
       "      <td>2021-09-20T14:30:28</td>\n",
       "      <td>2021-09-22T08:36:20.150497</td>\n",
       "      <td>360</td>\n",
       "      <td>42.097778</td>\n",
       "      <td>0</td>\n",
       "      <td>14</td>\n",
       "    </tr>\n",
       "    <tr>\n",
       "      <th>1</th>\n",
       "      <td>126</td>\n",
       "      <td>102</td>\n",
       "      <td>Radom</td>\n",
       "      <td>ul. Bukowa 64</td>\n",
       "      <td>Plantronics Savi W710</td>\n",
       "      <td>Sprzęt RTV</td>\n",
       "      <td>553.0</td>\n",
       "      <td>2021-03-05T13:27:41</td>\n",
       "      <td>2021-03-08T08:00:32.317562</td>\n",
       "      <td>620</td>\n",
       "      <td>66.547500</td>\n",
       "      <td>4</td>\n",
       "      <td>109</td>\n",
       "    </tr>\n",
       "  </tbody>\n",
       "</table>\n",
       "</div>"
      ],
      "text/plain": [
       "   session_id  user_id   city         street           product_name  \\\n",
       "0         124      102  Radom  ul. Bukowa 64  Plantronics Savi W710   \n",
       "1         126      102  Radom  ul. Bukowa 64  Plantronics Savi W710   \n",
       "\n",
       "  category_path  price   purchase_timestamp          delivery_timestamp  \\\n",
       "0    Sprzęt RTV  553.0  2021-09-20T14:30:28  2021-09-22T08:36:20.150497   \n",
       "1    Sprzęt RTV  553.0  2021-03-05T13:27:41  2021-03-08T08:00:32.317562   \n",
       "\n",
       "   delivery_company  delivery_time  week_day  purchase_week_day_plus_hour  \n",
       "0               360      42.097778         0                           14  \n",
       "1               620      66.547500         4                          109  "
      ]
     },
     "execution_count": 288,
     "metadata": {},
     "output_type": "execute_result"
    }
   ],
   "source": [
    "clearedDF = aggregatedDF.drop(columns=[\"product_id\", \"purchase_id\", \"timestamp\", \"offered_discount\", \"event_type\", \"name\"])\n",
    "\n",
    "clearedDF.head(n=2)"
   ]
  },
  {
   "cell_type": "markdown",
   "metadata": {},
   "source": [
    "## Analiza scalonych danych"
   ]
  },
  {
   "cell_type": "markdown",
   "metadata": {},
   "source": [
    "Interesującym jest to jak radzą sobie poszczególne firmy w zależności od miasta. Z wcześniejszej analizy wiemy, że mają praktycznie taki sam \n",
    "'ruch' w każdym z miast."
   ]
  },
  {
   "cell_type": "code",
   "execution_count": 289,
   "metadata": {},
   "outputs": [
    {
     "data": {
      "text/plain": [
       "Text(0.5, 1.0, 'Delivery time by city for company 620')"
      ]
     },
     "execution_count": 289,
     "metadata": {},
     "output_type": "execute_result"
    },
    {
     "data": {
      "image/png": "[encoded data removed]",
      "text/plain": [
       "<Figure size 432x288 with 1 Axes>"
      ]
     },
     "metadata": {
      "needs_background": "light"
     },
     "output_type": "display_data"
    }
   ],
   "source": [
    "cityOrder = ['Radom', 'Gdynia', 'Poznań', 'Wrocław',  'Szczecin', 'Kraków', 'Warszawa']\n",
    "\n",
    "cmp620_plot = sbn.violinplot(data=clearedDF[clearedDF.delivery_company == 620], x='city', y='delivery_time', order=cityOrder)\n",
    "cmp620_plot.set_title(\"Delivery time by city for company 620\")\n"
   ]
  },
  {
   "cell_type": "code",
   "execution_count": 290,
   "metadata": {},
   "outputs": [
    {
     "data": {
      "text/plain": [
       "Text(0.5, 1.0, 'Delivery time by city for company 360')"
      ]
     },
     "execution_count": 290,
     "metadata": {},
     "output_type": "execute_result"
    },
    {
     "data": {
      "image/png": "[encoded data removed]",
      "text/plain": [
       "<Figure size 432x288 with 1 Axes>"
      ]
     },
     "metadata": {
      "needs_background": "light"
     },
     "output_type": "display_data"
    }
   ],
   "source": [
    "cmp560_plot = sbn.violinplot(data=clearedDF[clearedDF.delivery_company == 360], x='city', y='delivery_time', order=cityOrder)\n",
    "cmp560_plot.set_title(\"Delivery time by city for company 360\")"
   ]
  },
  {
   "cell_type": "code",
   "execution_count": 291,
   "metadata": {},
   "outputs": [
    {
     "data": {
      "text/plain": [
       "Text(0.5, 1.0, 'Delivery time by city for company 516')"
      ]
     },
     "execution_count": 291,
     "metadata": {},
     "output_type": "execute_result"
    },
    {
     "data": {
      "image/png": "[encoded data removed]",
      "text/plain": [
       "<Figure size 432x288 with 1 Axes>"
      ]
     },
     "metadata": {
      "needs_background": "light"
     },
     "output_type": "display_data"
    }
   ],
   "source": [
    "cmp516_plot = sbn.violinplot(data=clearedDF[clearedDF.delivery_company == 516], x='city', y='delivery_time', order=cityOrder)\n",
    "cmp516_plot.set_title(\"Delivery time by city for company 516\")"
   ]
  },
  {
   "cell_type": "markdown",
   "metadata": {},
   "source": [
    "Widzimy, że wykresy dla każdej z firm mają podobną charakterystkę. W większości przypadków mediany mają podobne wartości.\n",
    "Trochę różnorodności dodają parametry poszczególnych \"skrzypiec\", ich szerokość, długość itd. \n",
    "\n",
    "Najszybszymi dostawami cieszą się klienci z Gdyni. Każda z firm ma najktórszy czas dostawy właśnie dla tej miejscowości.\n",
    "Średnio najdłużej oczekują mieszkańcy Krakowa, Warszawy oraz Wrocławia.\n",
    "\n",
    "Może firma ESzopping powinna zastanowić się nad zmianą, lub urozmaiceniem zbioru firm kurierskich z którymi współpracują,\n",
    "tak aby zapewnić lepszy czas dostaw w wyżej wymienionych miastach."
   ]
  },
  {
   "cell_type": "markdown",
   "metadata": {},
   "source": [
    "Sprawdźmy, czy tym produktu wpływa na czas jego dostawy. Kategoria w większości przypadków ma wpływ na gabaryty urządzenia.\n",
    "Zwykle komputer, czy telewizor jest większy, a więc i trudniejszy w przygotowaniu do wysyłki i transporcie niż mp4 lub telefon komórkowy.\n"
   ]
  },
  {
   "cell_type": "code",
   "execution_count": 292,
   "metadata": {},
   "outputs": [
    {
     "data": {
      "text/plain": [
       "Text(0.5, 1.0, 'Delivery time category')"
      ]
     },
     "execution_count": 292,
     "metadata": {},
     "output_type": "execute_result"
    },
    {
     "data": {
      "image/png": "[encoded data removed]",
      "text/plain": [
       "<Figure size 720x360 with 1 Axes>"
      ]
     },
     "metadata": {
      "needs_background": "light"
     },
     "output_type": "display_data"
    }
   ],
   "source": [
    "plt.figure(figsize=(10, 5))\n",
    "category_plot = sbn.violinplot(data=clearedDF, x='category_path', y='delivery_time')\n",
    "category_plot.set_title(\"Delivery time category\")\n"
   ]
  },
  {
   "cell_type": "markdown",
   "metadata": {},
   "source": [
    "Rozkłady są niemal identyczne, wygląda, że kategoria sprzętu prawie nie wpływa na czas jego dostawy."
   ]
  },
  {
   "cell_type": "markdown",
   "metadata": {},
   "source": [
    "## Współczynnik informacji wzajemnej"
   ]
  },
  {
   "cell_type": "markdown",
   "metadata": {},
   "source": [
    "Rzutujemy czas dostawy z double na integer.\n",
    "\n",
    "Sprawdźmy, czy atrbuty niosą ze sobą jakąś informację o zmiennej celu.\n",
    "Przed wyliczeniem współczynnika dla poszczególnych zbiorów, sprawdzimy wartość entropii zbioru delivery_time, aby oszacować \n",
    "jaka może być maksymalna wartość MI. \n",
    "\n",
    "MI(X,Y) >= 0 <br/>\n",
    "MI(X,Y) = H(X) - H(X|Y)"
   ]
  },
  {
   "cell_type": "code",
   "execution_count": 293,
   "metadata": {},
   "outputs": [
    {
     "name": "stdout",
     "output_type": "stream",
     "text": [
      "Entropy of delivery_time =                       4.2762\n",
      "MI(delivery_time, delivery_company) =            0.0318\n",
      "MI(delivery_time, week_day) =                    0.249\n",
      "MI(delivery_time, city) =                        0.4266\n",
      "MI(delivery_time, product_name) =                0.4659\n",
      "MI(delivery_time, category_path) =               0.0279\n",
      "MI(delivery_time, street) =                      1.1045\n",
      "MI(delivery_time, price) =                       0.3639\n",
      "MI(delivery_time, user_id) =                     1.1045\n",
      "MI(delivery_time, purchase_week_day_plus_hour) = 1.851\n"
     ]
    }
   ],
   "source": [
    "from sklearn import metrics\n",
    "from scipy.stats import entropy\n",
    "\n",
    "def castInt(delivery_time):\n",
    "    return int(delivery_time)\n",
    "\n",
    "clearedDF_delivery_time_int = clearedDF['delivery_time'].apply(castInt)\n",
    "clearedDF_price_to_int = clearedDF['price'].apply(castInt)\n",
    "\n",
    "clearedDF['delivery_time'] = clearedDF_delivery_time_int\n",
    "clearedDF['price'] = clearedDF_price_to_int\n",
    "\n",
    "print(\"Entropy of delivery_time =                       \" + str(round(entropy(clearedDF['delivery_time'].value_counts()),4)))\n",
    "\n",
    "print(\"MI(delivery_time, delivery_company) =            \" + str(round(metrics.mutual_info_score(clearedDF['delivery_time'], clearedDF['delivery_company']),4)))\n",
    "print(\"MI(delivery_time, week_day) =                    \" + str(round(metrics.mutual_info_score(clearedDF['delivery_time'], clearedDF['week_day']),4)))\n",
    "print(\"MI(delivery_time, city) =                        \" + str(round(metrics.mutual_info_score(clearedDF['delivery_time'], clearedDF['city']),4)))\n",
    "print(\"MI(delivery_time, product_name) =                \" + str(round(metrics.mutual_info_score(clearedDF['delivery_time'], clearedDF['product_name']),4)))\n",
    "print(\"MI(delivery_time, category_path) =               \" + str(round(metrics.mutual_info_score(clearedDF['delivery_time'], clearedDF['category_path']),4)))\n",
    "print(\"MI(delivery_time, street) =                      \" + str(round(metrics.mutual_info_score(clearedDF['delivery_time'], clearedDF['street']),4)))\n",
    "print(\"MI(delivery_time, price) =                       \" + str(round(metrics.mutual_info_score(clearedDF['delivery_time'], clearedDF['price']),4)))\n",
    "print(\"MI(delivery_time, user_id) =                     \" + str(round(metrics.mutual_info_score(clearedDF['delivery_time'], clearedDF['user_id']),4)))\n",
    "print(\"MI(delivery_time, purchase_week_day_plus_hour) = \" + str(round(metrics.mutual_info_score(clearedDF['delivery_time'], clearedDF['purchase_week_day_plus_hour']),4)))\n"
   ]
  },
  {
   "cell_type": "markdown",
   "metadata": {},
   "source": [
    "Atrybuty mające wpływ na czas dostawy wg kryterium MI to :\n",
    "\n",
    "- week_day\n",
    "- city\n",
    "- product_name\n",
    "- street (user_id)\n",
    "- price\n",
    "- purchase_hour\n",
    "- purchase_week_day_plus_hour\n",
    "\n",
    "**street**(**user_id**) ma wysoki wynik ponieważ czas dostawy do danego użytkownika wydaje się korespondować z danym użytkownikiem.\n",
    "\n",
    "**purchase_week_day_plus_hour** odgrywa kluczową role w analizowanych atrybutach, co zgadza się z naszymi przewidywaniami.\n",
    "\n",
    "Atrybuty nie mające wpływu na czas dostawy wg kryterium MI to :\n",
    "- delivery_company \n",
    "- category_path\n",
    "\n",
    "**delivery_company** oraz **category_path** nie dziwi ponieważ, już wcześniej wykryliśmy, że rodzaj firmy nie wpływa na czas dostawy.\n",
    "Wydaje się jednak, że te wartości powinny mieć wpływ na czas dostawy. Może to świadczyć o tym, że dane nie są poprawne.\n",
    "\n"
   ]
  },
  {
   "cell_type": "code",
   "execution_count": 294,
   "metadata": {},
   "outputs": [
    {
     "data": {
      "text/plain": [
       "<seaborn.axisgrid.FacetGrid at 0x19f419c3910>"
      ]
     },
     "execution_count": 294,
     "metadata": {},
     "output_type": "execute_result"
    },
    {
     "data": {
      "image/png": "[encoded data removed]",
      "text/plain": [
       "<Figure size 1656x360 with 1 Axes>"
      ]
     },
     "metadata": {
      "needs_background": "light"
     },
     "output_type": "display_data"
    }
   ],
   "source": [
    "sbn.catplot(data=clearedDF, x='delivery_time', kind='count', aspect= 4.6)"
   ]
  },
  {
   "cell_type": "markdown",
   "metadata": {},
   "source": [
    "Jako, że planujemy stworzyć klasyfikator przypisujące klasy:\n",
    "1 dzień, 2 dni, 3 dni, 4 dni, 5 dni i dłużej\n",
    "\n",
    "Sprawdźmy jak takie rzutowanie wpłynie na nasze dane."
   ]
  },
  {
   "cell_type": "code",
   "execution_count": 295,
   "metadata": {},
   "outputs": [],
   "source": [
    "from scipy.stats import entropy\n",
    "\n",
    "import math\n",
    "\n",
    "def cast_time(time):\n",
    "\n",
    "    days = time / 24\n",
    "    days = math.ceil(days)\n",
    "\n",
    "    if  days < 5:\n",
    "        return days\n",
    "\n",
    "    return 5\n",
    "\n",
    "delivery_time_to_class = clearedDF[\"delivery_time\"].apply(cast_time)\n",
    "casted_clearedDF = clearedDF.copy()\n",
    "casted_clearedDF[\"delivery_time\"] =  delivery_time_to_class\n",
    "casted_clearedDF.to_json(r'..\\data\\processed\\casted_clearedDF.jsonl', orient=\"records\", lines=True)"
   ]
  },
  {
   "cell_type": "code",
   "execution_count": 296,
   "metadata": {},
   "outputs": [
    {
     "name": "stdout",
     "output_type": "stream",
     "text": [
      "3    3348\n",
      "2    2283\n",
      "4     923\n",
      "1     420\n",
      "5      57\n",
      "Name: delivery_time, dtype: int64\n"
     ]
    },
    {
     "data": {
      "image/png": "[encoded data removed]",
      "text/plain": [
       "<Figure size 1656x360 with 1 Axes>"
      ]
     },
     "metadata": {
      "needs_background": "light"
     },
     "output_type": "display_data"
    }
   ],
   "source": [
    "sbn.catplot(data=casted_clearedDF, x='delivery_time', kind='count', aspect= 4.6)\n",
    "print(delivery_time_to_class.value_counts())"
   ]
  },
  {
   "cell_type": "markdown",
   "metadata": {},
   "source": [
    "Sprawdźmy jak rzutowanie wpłyneło na entropię oraz MI."
   ]
  },
  {
   "cell_type": "code",
   "execution_count": 297,
   "metadata": {},
   "outputs": [
    {
     "name": "stdout",
     "output_type": "stream",
     "text": [
      "Entropy of delivery_time =                       1.1925\n",
      "MI(delivery_time, delivery_company) =            0.0116\n",
      "MI(delivery_time, week_day) =                    0.0802\n",
      "MI(delivery_time, city) =                        0.3088\n",
      "MI(delivery_time, product_name) =                0.02\n",
      "MI(delivery_time, category_path) =               0.0012\n",
      "MI(delivery_time, street) =                      0.3469\n",
      "MI(delivery_time, price) =                       0.0152\n",
      "MI(delivery_time, user_id) =                     0.3469\n",
      "MI(delivery_time, purchase_week_day_plus_hour) = 0.2567\n"
     ]
    }
   ],
   "source": [
    "print(\"Entropy of delivery_time =                       \" + str(round(entropy(casted_clearedDF['delivery_time'].value_counts()),4)))\n",
    "\n",
    "print(\"MI(delivery_time, delivery_company) =            \" + str(round(metrics.mutual_info_score(casted_clearedDF['delivery_time'], casted_clearedDF['delivery_company']),4)))\n",
    "print(\"MI(delivery_time, week_day) =                    \" + str(round(metrics.mutual_info_score(casted_clearedDF['delivery_time'], casted_clearedDF['week_day']),4)))\n",
    "print(\"MI(delivery_time, city) =                        \" + str(round(metrics.mutual_info_score(casted_clearedDF['delivery_time'], casted_clearedDF['city']),4)))\n",
    "print(\"MI(delivery_time, product_name) =                \" + str(round(metrics.mutual_info_score(casted_clearedDF['delivery_time'], casted_clearedDF['product_name']),4)))\n",
    "print(\"MI(delivery_time, category_path) =               \" + str(round(metrics.mutual_info_score(casted_clearedDF['delivery_time'], casted_clearedDF['category_path']),4)))\n",
    "print(\"MI(delivery_time, street) =                      \" + str(round(metrics.mutual_info_score(casted_clearedDF['delivery_time'], casted_clearedDF['street']),4)))\n",
    "print(\"MI(delivery_time, price) =                       \" + str(round(metrics.mutual_info_score(casted_clearedDF['delivery_time'], casted_clearedDF['price']),4)))\n",
    "print(\"MI(delivery_time, user_id) =                     \" + str(round(metrics.mutual_info_score(casted_clearedDF['delivery_time'], casted_clearedDF['user_id']),4)))\n",
    "print(\"MI(delivery_time, purchase_week_day_plus_hour) = \" + str(round(metrics.mutual_info_score(casted_clearedDF['delivery_time'], casted_clearedDF['purchase_week_day_plus_hour']),4)))"
   ]
  },
  {
   "cell_type": "markdown",
   "metadata": {},
   "source": [
    "Entropia zmalała prawie 4 krotnie.\n",
    "\n",
    "- MI dla **week_day** zmalała proporcjonalnie\n",
    "- MI dla **city** się nie zmieniło, atrybut wydaje się być dość dobrym predyktorem.\n",
    "- MI dla **product_name** zmalało\n",
    "- MI dla **category_path**  bez zmian.\n",
    "- MI dla **user_id**(**street**) zmalało proprocjonalnie\n",
    "- MI dla **price** zmalało.\n",
    "- MI dla **purchase_week_day_plus_hour** zmalało.\n",
    " \n"
   ]
  },
  {
   "cell_type": "markdown",
   "metadata": {},
   "source": [
    "# Podsumowanie\n"
   ]
  },
  {
   "cell_type": "markdown",
   "metadata": {},
   "source": [
    "Podejrzenia o braku poprawności danych budzi mała informacja wzajemna atrybutu delivery_company jednak może to być ich specyfika.\n",
    "\n",
    "Przydatnym atrybutem była by informacja o rejonie miasta do którego była realizowana dostawa. Wnioskując po informacji wzajemnej atrybutu user_id(street) mogło by to być dobrym i uniwersalnym predykatem.\n",
    "\n",
    "Po przeskalowaniu zwróciliśmy uwagę na spadek wartości MI dla większości atrybutów. Nasze zadanie modelowania to zadanie klasyfikacji, taka utrata wskaźnika MI jest niepokojąca i może sugerować błąd w danych. Jeśli to możliwe to prosimy o nowy zbiór danych natomiast jeśli dane są poprawne to rozważymy zmianę modelu na model regresji, ponieważ wartości wskaźnika MI były wyższe dla zmiennej celu niezrzutowanej do klasy.\n",
    "\n",
    "Przy braku innych danych zdecydowalibyśmy się, jako danych wejściowych, użyć atrybutów:\n",
    "- city\n",
    "- street (dla nowych użytkowników predykcje będą gorsze. Z kolejnymi zakupami będą się polepszać)\n",
    "- purchase_week_day_plus_hour\n",
    "\n",
    "Zmienną celu byłby czas dostawy w dniach.\n",
    "\n"
   ]
  }
 ],
 "metadata": {
  "interpreter": {
   "hash": "916dbcbb3f70747c44a77c7bcd40155683ae19c65e1c03b4aa3499c5328201f1"
  },
  "kernelspec": {
   "display_name": "Python 3.8.10 64-bit",
   "language": "python",
   "name": "python3"
  },
  "language_info": {
   "codemirror_mode": {
    "name": "ipython",
    "version": 3
   },
   "file_extension": ".py",
   "mimetype": "text/x-python",
   "name": "python",
   "nbconvert_exporter": "python",
   "pygments_lexer": "ipython3",
   "version": "3.8.10"
  },
  "orig_nbformat": 4
 },
 "nbformat": 4,
 "nbformat_minor": 2
}
