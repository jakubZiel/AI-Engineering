{
 "cells": [
  {
   "cell_type": "code",
   "execution_count": 2,
   "metadata": {},
   "outputs": [],
   "source": [
    "# imports\n",
    "import pandas as pd\n",
    "import seaborn as sns\n",
    "import matplotlib.pyplot as plt\n",
    "import sklearn.model_selection as ms\n",
    "from sklearn.ensemble import RandomForestClassifier\n",
    "from sklearn import svm\n",
    "from sklearn.linear_model import SGDClassifier\n",
    "from sklearn.metrics import confusion_matrix, classification_report, accuracy_score\n",
    "from sklearn.neural_network import MLPClassifier\n",
    "from sklearn.preprocessing import StandardScaler, LabelEncoder\n",
    "from sklearn.model_selection import train_test_split, cross_val_score, cross_validate\n",
    "from joblib import load, dump\n",
    "\n",
    "%matplotlib inline"
   ]
  },
  {
   "cell_type": "code",
   "execution_count": 3,
   "metadata": {},
   "outputs": [
    {
     "data": {
      "text/html": [
       "<div>\n",
       "<style scoped>\n",
       "    .dataframe tbody tr th:only-of-type {\n",
       "        vertical-align: middle;\n",
       "    }\n",
       "\n",
       "    .dataframe tbody tr th {\n",
       "        vertical-align: top;\n",
       "    }\n",
       "\n",
       "    .dataframe thead th {\n",
       "        text-align: right;\n",
       "    }\n",
       "</style>\n",
       "<table border=\"1\" class=\"dataframe\">\n",
       "  <thead>\n",
       "    <tr style=\"text-align: right;\">\n",
       "      <th></th>\n",
       "      <th>city</th>\n",
       "      <th>street</th>\n",
       "      <th>delivery_time</th>\n",
       "      <th>purchase_week_day_plus_hour</th>\n",
       "    </tr>\n",
       "  </thead>\n",
       "  <tbody>\n",
       "    <tr>\n",
       "      <th>0</th>\n",
       "      <td>Radom</td>\n",
       "      <td>ul. Bukowa 64</td>\n",
       "      <td>2</td>\n",
       "      <td>14</td>\n",
       "    </tr>\n",
       "    <tr>\n",
       "      <th>1</th>\n",
       "      <td>Radom</td>\n",
       "      <td>ul. Bukowa 64</td>\n",
       "      <td>3</td>\n",
       "      <td>109</td>\n",
       "    </tr>\n",
       "    <tr>\n",
       "      <th>2</th>\n",
       "      <td>Gdynia</td>\n",
       "      <td>ul. Bałtycka 29</td>\n",
       "      <td>1</td>\n",
       "      <td>3</td>\n",
       "    </tr>\n",
       "    <tr>\n",
       "      <th>3</th>\n",
       "      <td>Gdynia</td>\n",
       "      <td>ul. Bałtycka 29</td>\n",
       "      <td>3</td>\n",
       "      <td>113</td>\n",
       "    </tr>\n",
       "    <tr>\n",
       "      <th>4</th>\n",
       "      <td>Gdynia</td>\n",
       "      <td>ul. Bałtycka 29</td>\n",
       "      <td>3</td>\n",
       "      <td>3</td>\n",
       "    </tr>\n",
       "  </tbody>\n",
       "</table>\n",
       "</div>"
      ],
      "text/plain": [
       "     city           street  delivery_time  purchase_week_day_plus_hour\n",
       "0   Radom    ul. Bukowa 64              2                           14\n",
       "1   Radom    ul. Bukowa 64              3                          109\n",
       "2  Gdynia  ul. Bałtycka 29              1                            3\n",
       "3  Gdynia  ul. Bałtycka 29              3                          113\n",
       "4  Gdynia  ul. Bałtycka 29              3                            3"
      ]
     },
     "execution_count": 3,
     "metadata": {},
     "output_type": "execute_result"
    }
   ],
   "source": [
    "# loading data\n",
    "clearedDF = '../../data/processed/casted_clearedDF.jsonl'\n",
    "data = pd.read_json(clearedDF, lines = True)\n",
    "data = data.drop(columns=[\"session_id\", \"user_id\", \"purchase_timestamp\", \"delivery_timestamp\"])\n",
    "data = data.drop(columns=[\"product_name\", \"price\", \"category_path\", \"week_day\"])\n",
    "data = data.drop(columns=[\"delivery_company\"])\n",
    "data.head()"
   ]
  },
  {
   "cell_type": "code",
   "execution_count": 4,
   "metadata": {},
   "outputs": [],
   "source": [
    "# converting strings to integers\n",
    "label_city = LabelEncoder()\n",
    "data['city'] = label_city.fit_transform(data['city'])\n",
    "label_street = LabelEncoder()\n",
    "data['street'] = label_street.fit_transform(data['street'])\n",
    "#label_product_name = LabelEncoder()\n",
    "#data['product_name'] = label_product_name.fit_transform(data['product_name'])\n",
    "#label_category_path = LabelEncoder()\n",
    "#data['category_path'] = label_category_path.fit_transform(data['category_path'])"
   ]
  },
  {
   "cell_type": "code",
   "execution_count": 5,
   "metadata": {},
   "outputs": [
    {
     "data": {
      "text/html": [
       "<div>\n",
       "<style scoped>\n",
       "    .dataframe tbody tr th:only-of-type {\n",
       "        vertical-align: middle;\n",
       "    }\n",
       "\n",
       "    .dataframe tbody tr th {\n",
       "        vertical-align: top;\n",
       "    }\n",
       "\n",
       "    .dataframe thead th {\n",
       "        text-align: right;\n",
       "    }\n",
       "</style>\n",
       "<table border=\"1\" class=\"dataframe\">\n",
       "  <thead>\n",
       "    <tr style=\"text-align: right;\">\n",
       "      <th></th>\n",
       "      <th>city</th>\n",
       "      <th>street</th>\n",
       "      <th>delivery_time</th>\n",
       "      <th>purchase_week_day_plus_hour</th>\n",
       "    </tr>\n",
       "  </thead>\n",
       "  <tbody>\n",
       "    <tr>\n",
       "      <th>0</th>\n",
       "      <td>3</td>\n",
       "      <td>139</td>\n",
       "      <td>2</td>\n",
       "      <td>14</td>\n",
       "    </tr>\n",
       "    <tr>\n",
       "      <th>1</th>\n",
       "      <td>3</td>\n",
       "      <td>139</td>\n",
       "      <td>3</td>\n",
       "      <td>109</td>\n",
       "    </tr>\n",
       "    <tr>\n",
       "      <th>2</th>\n",
       "      <td>0</td>\n",
       "      <td>136</td>\n",
       "      <td>1</td>\n",
       "      <td>3</td>\n",
       "    </tr>\n",
       "    <tr>\n",
       "      <th>3</th>\n",
       "      <td>0</td>\n",
       "      <td>136</td>\n",
       "      <td>3</td>\n",
       "      <td>113</td>\n",
       "    </tr>\n",
       "    <tr>\n",
       "      <th>4</th>\n",
       "      <td>0</td>\n",
       "      <td>136</td>\n",
       "      <td>3</td>\n",
       "      <td>3</td>\n",
       "    </tr>\n",
       "  </tbody>\n",
       "</table>\n",
       "</div>"
      ],
      "text/plain": [
       "   city  street  delivery_time  purchase_week_day_plus_hour\n",
       "0     3     139              2                           14\n",
       "1     3     139              3                          109\n",
       "2     0     136              1                            3\n",
       "3     0     136              3                          113\n",
       "4     0     136              3                            3"
      ]
     },
     "execution_count": 5,
     "metadata": {},
     "output_type": "execute_result"
    }
   ],
   "source": [
    "# extract label from data\n",
    "X = data.drop(columns=[\"delivery_time\"])\n",
    "y = data[\"delivery_time\"]\n",
    "data.head()"
   ]
  },
  {
   "cell_type": "code",
   "execution_count": 6,
   "metadata": {},
   "outputs": [],
   "source": [
    "# dividing data to train and test sets\n",
    "X_train, X_test, y_train, y_test = train_test_split(X, y, test_size = 0.2, random_state = 0)"
   ]
  },
  {
   "cell_type": "code",
   "execution_count": 7,
   "metadata": {},
   "outputs": [],
   "source": [
    "# scaling data\n",
    "sc = StandardScaler()\n",
    "X_train = sc.fit_transform(X_train)\n",
    "X_test = sc.transform(X_test)"
   ]
  },
  {
   "cell_type": "code",
   "execution_count": 8,
   "metadata": {},
   "outputs": [],
   "source": [
    "# random forest classifier\n",
    "rfc = RandomForestClassifier(n_estimators = 128, min_samples_split = 16)\n",
    "rfc.fit(X_train, y_train)\n",
    "pred_rfc = rfc.predict(X_test)\n",
    "\n",
    "rfc_Cross = cross_val_score(rfc, X, y, n_jobs = -1, cv = ms.KFold(shuffle = True))"
   ]
  },
  {
   "cell_type": "code",
   "execution_count": 9,
   "metadata": {},
   "outputs": [
    {
     "name": "stdout",
     "output_type": "stream",
     "text": [
      "              precision    recall  f1-score   support\n",
      "\n",
      "           1       0.33      0.06      0.10        81\n",
      "           2       0.70      0.77      0.73       443\n",
      "           3       0.76      0.87      0.81       692\n",
      "           4       0.77      0.44      0.56       182\n",
      "           5       0.00      0.00      0.00         9\n",
      "\n",
      "    accuracy                           0.73      1407\n",
      "   macro avg       0.51      0.43      0.44      1407\n",
      "weighted avg       0.71      0.73      0.71      1407\n",
      "\n",
      "[[  5  66  10   0   0]\n",
      " [  9 342  81  11   0]\n",
      " [  1  76 603  12   0]\n",
      " [  0   8  94  80   0]\n",
      " [  0   0   8   1   0]]\n",
      "0.74 accuracy with a standard deviation of 0.01\n"
     ]
    }
   ],
   "source": [
    "print(classification_report(y_test, pred_rfc, zero_division=0))\n",
    "print(confusion_matrix(y_test, pred_rfc))\n",
    "print(\"%0.2f accuracy with a standard deviation of %0.2f\" % (rfc_Cross.mean(), rfc_Cross.std()))"
   ]
  },
  {
   "cell_type": "code",
   "execution_count": 10,
   "metadata": {},
   "outputs": [],
   "source": [
    "# svm classifier\n",
    "svmc = svm.SVC(C = 174, gamma = 0.1)\n",
    "svmc.fit(X_train, y_train)\n",
    "pred_svmc = svmc.predict(X_test)\n",
    "\n",
    "svmc_Cross = cross_val_score(svmc, X, y, n_jobs = -1, cv = ms.KFold(shuffle = True))\n"
   ]
  },
  {
   "cell_type": "code",
   "execution_count": 11,
   "metadata": {},
   "outputs": [
    {
     "name": "stdout",
     "output_type": "stream",
     "text": [
      "              precision    recall  f1-score   support\n",
      "\n",
      "           1       0.00      0.00      0.00        81\n",
      "           2       0.58      0.81      0.68       443\n",
      "           3       0.67      0.76      0.72       692\n",
      "           4       0.00      0.00      0.00       182\n",
      "           5       0.00      0.00      0.00         9\n",
      "\n",
      "    accuracy                           0.63      1407\n",
      "   macro avg       0.25      0.31      0.28      1407\n",
      "weighted avg       0.51      0.63      0.56      1407\n",
      "\n",
      "[[  0  79   2   0   0]\n",
      " [  0 359  84   0   0]\n",
      " [  0 163 529   0   0]\n",
      " [  0  19 163   0   0]\n",
      " [  0   0   9   0   0]]\n",
      "[0.56787491 0.57325747 0.56685633 0.58321479 0.54267425]\n",
      "0.57 accuracy with a standard deviation of 0.01\n"
     ]
    }
   ],
   "source": [
    "print(classification_report(y_test, pred_svmc, zero_division=0))\n",
    "print(confusion_matrix(y_test, pred_svmc))\n",
    "print(svmc_Cross)\n",
    "print(\"%0.2f accuracy with a standard deviation of %0.2f\" % (svmc_Cross.mean(), svmc_Cross.std()))"
   ]
  },
  {
   "cell_type": "code",
   "execution_count": 12,
   "metadata": {},
   "outputs": [],
   "source": [
    "# mulit-layer perceptron\n",
    "mlpc = MLPClassifier(activation = 'logistic', max_iter = 1024)\n",
    "mlpc.fit(X_train, y_train)\n",
    "pred_mlpc = mlpc.predict(X_test)\n",
    "\n",
    "mlpc_Cross = cross_val_score(mlpc, X, y, n_jobs = -1, cv = ms.KFold(shuffle = True))\n"
   ]
  },
  {
   "cell_type": "code",
   "execution_count": 13,
   "metadata": {},
   "outputs": [
    {
     "name": "stdout",
     "output_type": "stream",
     "text": [
      "              precision    recall  f1-score   support\n",
      "\n",
      "           1       0.00      0.00      0.00        81\n",
      "           2       0.37      0.41      0.39       443\n",
      "           3       0.56      0.74      0.64       692\n",
      "           4       0.00      0.00      0.00       182\n",
      "           5       0.00      0.00      0.00         9\n",
      "\n",
      "    accuracy                           0.49      1407\n",
      "   macro avg       0.19      0.23      0.21      1407\n",
      "weighted avg       0.39      0.49      0.44      1407\n",
      "\n",
      "[[  0  58  23   0   0]\n",
      " [  0 181 262   0   0]\n",
      " [  0 179 513   0   0]\n",
      " [  0  65 117   0   0]\n",
      " [  0   5   4   0   0]]\n",
      "[0.65174129 0.57467994 0.66429587 0.66785206 0.62944523]\n",
      "0.64 accuracy with a standard deviation of 0.03\n"
     ]
    }
   ],
   "source": [
    "print(classification_report(y_test, pred_mlpc, zero_division=0))\n",
    "print(confusion_matrix(y_test, pred_mlpc))\n",
    "print(mlpc_Cross)\n",
    "print(\"%0.2f accuracy with a standard deviation of %0.2f\" % (mlpc_Cross.mean(), mlpc_Cross.std()))"
   ]
  },
  {
   "cell_type": "code",
   "execution_count": 14,
   "metadata": {},
   "outputs": [
    {
     "data": {
      "text/plain": [
       "['../../models/ml-perceptron.joblib']"
      ]
     },
     "execution_count": 14,
     "metadata": {},
     "output_type": "execute_result"
    }
   ],
   "source": [
    "#persit models\n",
    "dump(svmc, '../../models/svm.joblib')\n",
    "dump(rfc, '../../models/random-forest.joblib')\n",
    "dump(mlpc, '../../models/ml-perceptron.joblib')"
   ]
  }
 ],
 "metadata": {
  "interpreter": {
   "hash": "b81249c273ff775c7965683a350ef62c8b681490c467624ce35254886e93f2b9"
  },
  "kernelspec": {
   "display_name": "Python 3.10.0 64-bit",
   "language": "python",
   "name": "python3"
  },
  "language_info": {
   "codemirror_mode": {
    "name": "ipython",
    "version": 3
   },
   "file_extension": ".py",
   "mimetype": "text/x-python",
   "name": "python",
   "nbconvert_exporter": "python",
   "pygments_lexer": "ipython3",
   "version": "3.8.10"
  },
  "orig_nbformat": 4
 },
 "nbformat": 4,
 "nbformat_minor": 2
}
